{
  "cells": [
    {
      "cell_type": "markdown",
      "metadata": {
        "id": "view-in-github",
        "colab_type": "text"
      },
      "source": [
        "<a href=\"https://colab.research.google.com/github/MastersMasterM/DataDrivenModelingProject/blob/main/JANOS_DataDrivenModeling_Project.ipynb\" target=\"_parent\"><img src=\"https://colab.research.google.com/assets/colab-badge.svg\" alt=\"Open In Colab\"/></a>"
      ]
    },
    {
      "cell_type": "markdown",
      "metadata": {
        "id": "h3C4hafqpvoC"
      },
      "source": [
        "# Initializing Project Setting"
      ]
    },
    {
      "cell_type": "markdown",
      "source": [
        "## Installing Packages"
      ],
      "metadata": {
        "id": "N0fHrkmwvDgq"
      }
    },
    {
      "cell_type": "code",
      "execution_count": null,
      "metadata": {
        "colab": {
          "base_uri": "https://localhost:8080/"
        },
        "id": "EmSkXVpoGV8O",
        "outputId": "75c43a4d-d5e3-4ac7-a67b-4f811e8b6309"
      },
      "outputs": [
        {
          "output_type": "stream",
          "name": "stdout",
          "text": [
            "Requirement already satisfied: pyomo in /usr/local/lib/python3.10/dist-packages (6.7.0)\n",
            "Requirement already satisfied: ply in /usr/local/lib/python3.10/dist-packages (from pyomo) (3.11)\n"
          ]
        }
      ],
      "source": [
        "!pip install pyomo"
      ]
    },
    {
      "cell_type": "code",
      "execution_count": null,
      "metadata": {
        "id": "1QsGACL7reEL"
      },
      "outputs": [],
      "source": [
        "!apt-get install -y -qq coinor-cbc"
      ]
    },
    {
      "cell_type": "code",
      "execution_count": null,
      "metadata": {
        "id": "S7a0Oy7Lhupc"
      },
      "outputs": [],
      "source": [
        "import warnings\n",
        "# Suppress the FutureWarning\n",
        "warnings.simplefilter(action='ignore', category=FutureWarning)"
      ]
    },
    {
      "cell_type": "markdown",
      "metadata": {
        "id": "YplXKBjna-gw"
      },
      "source": [
        "## Importing Datasets"
      ]
    },
    {
      "cell_type": "code",
      "source": [
        "!pip install gdown"
      ],
      "metadata": {
        "colab": {
          "base_uri": "https://localhost:8080/"
        },
        "id": "C07j8f8VZ1Gq",
        "outputId": "e2e6da1e-c68c-47ad-a3f3-47572aa0653f"
      },
      "execution_count": null,
      "outputs": [
        {
          "output_type": "stream",
          "name": "stdout",
          "text": [
            "Requirement already satisfied: gdown in /usr/local/lib/python3.10/dist-packages (4.6.6)\n",
            "Requirement already satisfied: filelock in /usr/local/lib/python3.10/dist-packages (from gdown) (3.13.1)\n",
            "Requirement already satisfied: requests[socks] in /usr/local/lib/python3.10/dist-packages (from gdown) (2.31.0)\n",
            "Requirement already satisfied: six in /usr/local/lib/python3.10/dist-packages (from gdown) (1.16.0)\n",
            "Requirement already satisfied: tqdm in /usr/local/lib/python3.10/dist-packages (from gdown) (4.66.1)\n",
            "Requirement already satisfied: beautifulsoup4 in /usr/local/lib/python3.10/dist-packages (from gdown) (4.11.2)\n",
            "Requirement already satisfied: soupsieve>1.2 in /usr/local/lib/python3.10/dist-packages (from beautifulsoup4->gdown) (2.5)\n",
            "Requirement already satisfied: charset-normalizer<4,>=2 in /usr/local/lib/python3.10/dist-packages (from requests[socks]->gdown) (3.3.2)\n",
            "Requirement already satisfied: idna<4,>=2.5 in /usr/local/lib/python3.10/dist-packages (from requests[socks]->gdown) (3.6)\n",
            "Requirement already satisfied: urllib3<3,>=1.21.1 in /usr/local/lib/python3.10/dist-packages (from requests[socks]->gdown) (2.0.7)\n",
            "Requirement already satisfied: certifi>=2017.4.17 in /usr/local/lib/python3.10/dist-packages (from requests[socks]->gdown) (2023.11.17)\n",
            "Requirement already satisfied: PySocks!=1.5.7,>=1.5.6 in /usr/local/lib/python3.10/dist-packages (from requests[socks]->gdown) (1.7.1)\n"
          ]
        }
      ]
    },
    {
      "cell_type": "code",
      "source": [
        "#Downloading Dataset\n",
        "!gdown 1WM1zfkG7n9_QLdhTFQwRWu1Ky35GvcCA\n",
        "!gdown 1HjYbKpxsyY03K3K1-vi9A9mcIeNnYwp_"
      ],
      "metadata": {
        "id": "45PZnhEaKmTI",
        "colab": {
          "base_uri": "https://localhost:8080/"
        },
        "outputId": "8d9bf147-7b0e-408c-cb63-05a937f6f08d"
      },
      "execution_count": null,
      "outputs": [
        {
          "output_type": "stream",
          "name": "stdout",
          "text": [
            "Downloading...\n",
            "From: https://drive.google.com/uc?id=1WM1zfkG7n9_QLdhTFQwRWu1Ky35GvcCA\n",
            "To: /content/college_applications6000.csv\n",
            "100% 94.2k/94.2k [00:00<00:00, 30.0MB/s]\n",
            "Downloading...\n",
            "From: https://drive.google.com/uc?id=1HjYbKpxsyY03K3K1-vi9A9mcIeNnYwp_\n",
            "To: /content/college_student_enroll-s1-1.csv\n",
            "100% 568k/568k [00:00<00:00, 23.5MB/s]\n"
          ]
        }
      ]
    },
    {
      "cell_type": "code",
      "execution_count": null,
      "metadata": {
        "id": "_WRt3gd-xUyn"
      },
      "outputs": [],
      "source": [
        "import pandas as pd\n",
        "# Read the dataset from a file (assuming a CSV file)\n",
        "trainset = pd.read_csv('/content/college_student_enroll-s1-1.csv')\n",
        "testset = pd.read_csv('/content/college_applications6000.csv')"
      ]
    },
    {
      "cell_type": "markdown",
      "source": [
        "## Standardizing Datasets"
      ],
      "metadata": {
        "id": "3Dquej7bn5g4"
      }
    },
    {
      "cell_type": "code",
      "execution_count": null,
      "metadata": {
        "id": "lAb447ya5Vfs"
      },
      "outputs": [],
      "source": [
        "from sklearn.preprocessing import StandardScaler\n",
        "#Scaling Testset\n",
        "SAT = StandardScaler().fit(testset[['SAT']])\n",
        "GPA = StandardScaler().fit(testset[['GPA']])\n",
        "\n",
        "testset['SAT'] = SAT.transform(testset[[\"SAT\"]])\n",
        "testset['GPA'] = GPA.transform(testset[[\"GPA\"]])"
      ]
    },
    {
      "cell_type": "code",
      "execution_count": null,
      "metadata": {
        "id": "zpbGpzTD50Ad"
      },
      "outputs": [],
      "source": [
        "# Normalizing Trainingset\n",
        "SAT = StandardScaler().fit(trainset[['SAT']])\n",
        "GPA = StandardScaler().fit(trainset[['GPA']])\n",
        "trainset['SAT'] = SAT.transform(trainset[[\"SAT\"]])\n",
        "trainset['GPA'] = GPA.transform(trainset[[\"GPA\"]])"
      ]
    },
    {
      "cell_type": "code",
      "source": [
        "trainset.shape"
      ],
      "metadata": {
        "colab": {
          "base_uri": "https://localhost:8080/"
        },
        "id": "1KrKP2dhhblJ",
        "outputId": "80b0a795-2749-42ff-9ad7-2d2d52076252"
      },
      "execution_count": null,
      "outputs": [
        {
          "output_type": "execute_result",
          "data": {
            "text/plain": [
              "(20000, 6)"
            ]
          },
          "metadata": {},
          "execution_count": 9
        }
      ]
    },
    {
      "cell_type": "code",
      "source": [
        "testset.shape"
      ],
      "metadata": {
        "colab": {
          "base_uri": "https://localhost:8080/"
        },
        "id": "gd775cU6heOA",
        "outputId": "d9c47172-0ad7-426e-ca3c-85e88306614b"
      },
      "execution_count": null,
      "outputs": [
        {
          "output_type": "execute_result",
          "data": {
            "text/plain": [
              "(6000, 3)"
            ]
          },
          "metadata": {},
          "execution_count": 10
        }
      ]
    },
    {
      "cell_type": "code",
      "source": [
        "trainset.enroll.value_counts()"
      ],
      "metadata": {
        "colab": {
          "base_uri": "https://localhost:8080/"
        },
        "id": "KYAkCFZKvIka",
        "outputId": "77afb2ed-81da-4849-fb47-73ce666aaa93"
      },
      "execution_count": null,
      "outputs": [
        {
          "output_type": "execute_result",
          "data": {
            "text/plain": [
              "0    10000\n",
              "1    10000\n",
              "Name: enroll, dtype: int64"
            ]
          },
          "metadata": {},
          "execution_count": 11
        }
      ]
    },
    {
      "cell_type": "markdown",
      "metadata": {
        "id": "hv9djYGHmKGm"
      },
      "source": [
        "## Tuning MLP"
      ]
    },
    {
      "cell_type": "code",
      "execution_count": null,
      "metadata": {
        "id": "i0Dmig9YmWJ_"
      },
      "outputs": [],
      "source": [
        "# Separate the input features (X) and the target variable (y)\n",
        "X = trainset.loc[:, ['SAT', 'GPA', 'merit']]\n",
        "y = trainset.loc[:, 'enroll']"
      ]
    },
    {
      "cell_type": "code",
      "execution_count": null,
      "metadata": {
        "id": "Mim6TY2FE9ys"
      },
      "outputs": [],
      "source": [
        "from sklearn.preprocessing import StandardScaler\n",
        "SAT = StandardScaler().fit(X[['SAT']])\n",
        "GPA = StandardScaler().fit(X[['GPA']])\n",
        "X['SAT'] = SAT.transform(X[[\"SAT\"]])\n",
        "X['GPA'] = GPA.transform(X[[\"GPA\"]])"
      ]
    },
    {
      "cell_type": "code",
      "execution_count": null,
      "metadata": {
        "id": "6y6WeQknmbLp"
      },
      "outputs": [],
      "source": [
        "from sklearn.model_selection import GridSearchCV\n",
        "from sklearn.model_selection import train_test_split\n",
        "\n",
        "# Split the data into training and testing sets\n",
        "X_train, X_test, y_train, y_test = train_test_split(X, y, test_size=0.2, random_state=42)"
      ]
    },
    {
      "cell_type": "code",
      "execution_count": null,
      "metadata": {
        "id": "EGl8lCIem82o"
      },
      "outputs": [],
      "source": [
        "# Define the parameter grid for hyperparameter tuning\n",
        "param_grid = {\n",
        "    'beta_1': [0.9, 0.95, 0.99],\n",
        "    'beta_2': [0.999, 0.9999],\n",
        "    'epsilon': [1e-8, 1e-7, 1e-6],\n",
        "}"
      ]
    },
    {
      "cell_type": "code",
      "execution_count": null,
      "metadata": {
        "id": "76bBT4IamMgG",
        "colab": {
          "base_uri": "https://localhost:8080/"
        },
        "outputId": "af2c4691-adb7-426b-8e29-414023bca27c"
      },
      "outputs": [
        {
          "output_type": "stream",
          "name": "stderr",
          "text": [
            "/usr/local/lib/python3.10/dist-packages/sklearn/neural_network/_multilayer_perceptron.py:693: UserWarning: Training interrupted by user.\n",
            "  warnings.warn(\"Training interrupted by user.\")\n"
          ]
        }
      ],
      "source": [
        "%%time\n",
        "from sklearn.neural_network import MLPRegressor\n",
        "\n",
        "dict_l_alpha = {}\n",
        "for l in range(1,4):\n",
        "  #Setting Nurons number for each layer\n",
        "  n_size = [10] * l\n",
        "  n_size = tuple(n_size)\n",
        "\n",
        "  # Create an MLP classifier with fixed activation and hidden layer size\n",
        "  mlp = MLPRegressor(hidden_layer_sizes=n_size, random_state=666, max_iter=500, solver='adam', activation = 'relu')\n",
        "\n",
        "  # Create a GridSearchCV object and fit it to the training data\n",
        "  grid_search = GridSearchCV(mlp, param_grid, cv=5)\n",
        "  grid_search.fit(X_train, y_train)\n",
        "\n",
        "  # Get the best hyperparameters and the corresponding model\n",
        "  best_params = grid_search.best_params_\n",
        "  best_model = grid_search.best_estimator_\n",
        "\n",
        "  # Evaluate the best model on the test data\n",
        "  accuracy = best_model.score(X_test, y_test)\n",
        "\n",
        "  # Print the best hyperparameters and the accuracy\n",
        "  print(f\"Best Hyperparameters for l = {l}: {best_params}\")\n",
        "  print(f\"Accuracy for l = {l}: {accuracy}\")\n",
        "  dict_l_alpha[l] = best_params"
      ]
    },
    {
      "cell_type": "markdown",
      "source": [
        "Saved Result From Tuning"
      ],
      "metadata": {
        "id": "YsBQnimCEMsm"
      }
    },
    {
      "cell_type": "code",
      "execution_count": null,
      "metadata": {
        "id": "MzUwDEjV8olT"
      },
      "outputs": [],
      "source": [
        "dict_l_alpha = {}\n",
        "\n",
        "dict_l_alpha[1] = {'beta_1': 0.95, 'beta_2': 0.999, 'epsilon': 1e-08}\n",
        "dict_l_alpha[2] = {'beta_1': 0.95, 'beta_2': 0.999, 'epsilon': 1e-07}\n",
        "dict_l_alpha[3] = {'beta_1': 0.95, 'beta_2': 0.999, 'epsilon': 1e-06}"
      ]
    },
    {
      "cell_type": "markdown",
      "source": [
        "# Implemented JANOS"
      ],
      "metadata": {
        "id": "UcTNHlClv2OF"
      }
    },
    {
      "cell_type": "markdown",
      "metadata": {
        "id": "WPDNx0bXatJU"
      },
      "source": [
        "## Modeling Phase"
      ]
    },
    {
      "cell_type": "code",
      "execution_count": null,
      "metadata": {
        "id": "459DCJ08dbss"
      },
      "outputs": [],
      "source": [
        "import pyomo.environ as pyo\n",
        "import numpy as np\n",
        "\n",
        "def Modeling(N:int, l:int, testset:pd.DataFrame, weights:np.array, bias:np.array, inp_shape:int, n_neurons:int=10, discrete:bool=False):\n",
        "\n",
        "  #Getting a sample of size N from test data\n",
        "  testset = testset.sample(N+1)\n",
        "  testset = testset.reset_index(drop=True)\n",
        "\n",
        "  #Computing Number of Neurons\n",
        "  n_size = [n_neurons] * l\n",
        "  n_size = tuple(n_size)\n",
        "\n",
        "  #Create Concerete Model Pyo Model\n",
        "  model = pyo.ConcreteModel()\n",
        "\n",
        "  #Constants\n",
        "  model.eps = 1e-08\n",
        "  model.M = 5000.0\n",
        "\n",
        "  #Parameters\n",
        "  model.N = N\n",
        "  model.l = l\n",
        "  model.n_input_layer = inp_shape\n",
        "  model.n_output_layer = 1\n",
        "  model.n_hidden_neurons = l*10\n",
        "  model.n_neurons = inp_shape + l*10 + 1\n",
        "\n",
        "  #Sets\n",
        "  model.i = pyo.RangeSet(1, model.N)\n",
        "  model.neurons = pyo.RangeSet(1, model.n_neurons)\n",
        "  model.input_layer = pyo.RangeSet(1, model.n_input_layer)\n",
        "  model.hidden_neurons = pyo.RangeSet(1 + model.n_input_layer, model.n_input_layer + model.n_hidden_neurons)\n",
        "  model.output_layer = pyo.RangeSet(1 + model.n_input_layer + model.n_hidden_neurons, model.n_input_layer + model.n_hidden_neurons + 1)\n",
        "  model.layer_except_inp = model.hidden_neurons | model.output_layer\n",
        "  model.D = pyo.Set(initialize=[0, 0.5, 1, 1.5, 2, 2.5])\n",
        "\n",
        "  #Variables\n",
        "  model.G = pyo.Var(model.i, model.neurons, domain=pyo.Reals)\n",
        "  model.F = pyo.Var(model.i, model.neurons, domain=pyo.Reals)\n",
        "  model.z = pyo.Var(model.i, model.neurons, domain=pyo.Binary)\n",
        "  model.y = pyo.Var(model.i, domain=pyo.Reals)\n",
        "  if discrete:\n",
        "    model.x = pyo.Var(model.i, domain=model.D)\n",
        "  else:\n",
        "    model.x = pyo.Var(model.i, domain=pyo.Reals)\n",
        "\n",
        "  #Parameters\n",
        "\n",
        "  #Weights\n",
        "  model.W = pyo.Param(model.neurons, model.neurons, initialize=0.0, mutable=True)\n",
        "  # Assigning values to model.W based on MLP weights layer by layer\n",
        "  for i in model.input_layer:\n",
        "    for j in model.hidden_neurons:\n",
        "      if j <= (model.n_input_layer + 10):\n",
        "        model.W[i, j] = round(weights[0][i - 1][j - model.n_input_layer - 1], 6)\n",
        "\n",
        "  # Hidden layers\n",
        "  for layer in range(1, model.l):\n",
        "    # Connect neurons in the current hidden layer to neurons in the previous hidden layer or input layer\n",
        "    for i in range(model.n_input_layer + (layer-1) * 10 + 1, model.n_input_layer + (layer) * 10 + 1):\n",
        "      for j in range(model.n_input_layer + (layer) * 10 + 1, model.n_input_layer + (layer + 1) * 10 + 1):\n",
        "        model.W[i, j] = round(weights[layer][i - (model.n_input_layer + (layer-1) * 10) - 1][j - (model.n_input_layer + (layer) * 10) - 1], 6)\n",
        "\n",
        "  layer = model.l\n",
        "\n",
        "  # Last hidden layer to output layer\n",
        "  for i in range(model.n_input_layer + (layer-1) * 10 + 1, model.n_input_layer + (layer) * 10 + 1):\n",
        "    j = model.n_input_layer + (layer) * 10 + 1\n",
        "    model.W[i, j] = round(weights[layer][i - (model.n_input_layer + (layer-1) * 10) - 1][0], 6)\n",
        "\n",
        "  #Bias\n",
        "  model.b = pyo.Param(model.neurons, initialize=0.0, mutable=True)\n",
        "\n",
        "  # Hidden Layer Neurons Bias\n",
        "  for i in range(model.l):\n",
        "    layer_bias = bias[i]\n",
        "    for j in range(model.n_input_layer + (i) * 10 + 1, model.n_input_layer + (i+1) * 10 + 1):\n",
        "      model.b[j] = round(layer_bias[j-(model.n_input_layer + (i) * 10 + 1)], 6)\n",
        "\n",
        "  # Last hidden layer to output layer\n",
        "  for j in model.output_layer:\n",
        "      model.b[j] = round(bias[-1][0], 6)\n",
        "  #Constraints\n",
        "\n",
        "  #Budget Constraint\n",
        "  model.Constraint1 = pyo.Constraint(expr = sum(1 * model.x[i] for i in model.i) <= int(0.2*N))\n",
        "\n",
        "  #Regular Variable Constraint\n",
        "  def x_constraint_rule(m, i):\n",
        "      # return the expression for the constraint for i\n",
        "      return m.x[i] <= 2.5\n",
        "  model.xbConstraint = pyo.Constraint(model.i, rule=x_constraint_rule)\n",
        "\n",
        "  def x_constraint_rule2(m, i):\n",
        "      # return the expression for the constraint for i\n",
        "      return 0.0 <= m.x[i]\n",
        "  model.xbConstraint2 = pyo.Constraint(model.i, rule=x_constraint_rule2)\n",
        "\n",
        "  #Predictive\n",
        "\n",
        "  #Input Layer\n",
        "  def g1_constraint_rule(m, i):\n",
        "    sat = testset.loc[i, 'SAT']\n",
        "    return m.G[i, 1] == sat\n",
        "  model.g1Constraint = pyo.Constraint(model.i, rule=g1_constraint_rule)\n",
        "\n",
        "  def g2_constraint_rule(m, i):\n",
        "    gpa = testset.loc[i, 'GPA']\n",
        "    return m.G[i, 2] == gpa\n",
        "  model.g2Constraint = pyo.Constraint(model.i, rule=g2_constraint_rule)\n",
        "\n",
        "  def g3_constraint_rule(m, i):\n",
        "    return m.G[i, 3] == m.x[i]\n",
        "  model.g3Constraint = pyo.Constraint(model.i, rule=g3_constraint_rule)\n",
        "\n",
        "  #Input and Output Constraints\n",
        "  def f1_constraint_rule(m, i):\n",
        "    return m.G[i, 1] == m.F[i, 1]\n",
        "  model.f1Constraint = pyo.Constraint(model.i, rule=f1_constraint_rule)\n",
        "\n",
        "  def f2_constraint_rule(m, i):\n",
        "    return m.G[i, 2] == m.F[i, 2]\n",
        "  model.f2Constraint = pyo.Constraint(model.i, rule=f2_constraint_rule)\n",
        "\n",
        "  def f3_constraint_rule(m, i):\n",
        "    return m.G[i, 3] == m.F[i, 3]\n",
        "  model.f3Constraint = pyo.Constraint(model.i, rule=f3_constraint_rule)\n",
        "\n",
        "  def ft_constraint_rule(m, i):\n",
        "    return m.G[i, m.n_neurons] == m.F[i, m.n_neurons]\n",
        "  model.ftConstraint = pyo.Constraint(model.i, rule=ft_constraint_rule)\n",
        "\n",
        "  #Hidden Layers\n",
        "  def hidden_layers_rule(m, i, j):\n",
        "    if j <= m.n_input_layer + 10:\n",
        "      summation = sum(m.W[k, j] * m.F[i, k] for k in m.input_layer)\n",
        "      summation += m.b[j]\n",
        "      return summation == m.G[i, j]\n",
        "    else:\n",
        "      layer_num = ((j - m.n_input_layer - 1) // 10) + 1\n",
        "      previous_layer = range(m.n_input_layer + (layer_num - 2) * 10 + 1, m.n_input_layer + (layer_num - 1) * 10 + 1)\n",
        "      summation = sum(m.W[k, j] * m.F[i, k] for k in previous_layer)\n",
        "      summation += m.b[j]\n",
        "      return summation == m.G[i, j]\n",
        "  model.hidden_layerConstraint = pyo.Constraint(model.i, model.layer_except_inp, rule=hidden_layers_rule)\n",
        "\n",
        "  #Binary Rules\n",
        "  def binary_rule1(m, i, j):\n",
        "    return m.G[i, j] - m.M * m.z[i, j] <= 0\n",
        "  model.binary1Constraint = pyo.Constraint(model.i, model.hidden_neurons, rule=binary_rule1)\n",
        "\n",
        "  def binary_rule2(m, i, j):\n",
        "    return m.G[i, j] + m.M * (1 - m.z[i, j]) >= m.eps\n",
        "  model.binary2Constraint = pyo.Constraint(model.i, model.hidden_neurons, rule=binary_rule2)\n",
        "\n",
        "  def binary_rule3(m, i, j):\n",
        "    return m.G[i, j] + m.M * (1 - m.z[i, j]) - m.F[i, j] + m.eps >= 0\n",
        "  model.binary3Constraint = pyo.Constraint(model.i, model.hidden_neurons, rule=binary_rule3)\n",
        "\n",
        "  def binary_rule4(m, i, j):\n",
        "    return m.G[i, j] - m.M * (1 - m.z[i, j]) - m.F[i, j] <= m.eps\n",
        "  model.binary4Constraint = pyo.Constraint(model.i, model.hidden_neurons, rule=binary_rule4)\n",
        "\n",
        "  def binary_rule5(m, i, j):\n",
        "    return m.F[i, j] >= 0\n",
        "  model.binary5Constraint = pyo.Constraint(model.i, model.hidden_neurons, rule=binary_rule5)\n",
        "\n",
        "  def binary_rule6(m, i, j):\n",
        "    return m.F[i, j] <= m.z[i, j] * m.M + m.eps\n",
        "  model.binary6Constraint = pyo.Constraint(model.i, model.hidden_neurons, rule=binary_rule6)\n",
        "\n",
        "  #Setting Predicted Variable\n",
        "  def y_constraint_rule(m, i):\n",
        "    return m.y[i] == m.F[i, m.n_neurons]\n",
        "\n",
        "  model.ybConstraint = pyo.Constraint(model.i, rule=y_constraint_rule)\n",
        "\n",
        "  #Objective Function\n",
        "  def obj_rule(m):\n",
        "      return sum(m.y[i] for i in m.i)\n",
        "\n",
        "  model.obj = pyo.Objective(rule=obj_rule, sense=pyo.maximize)\n",
        "\n",
        "  return model, testset"
      ]
    },
    {
      "cell_type": "markdown",
      "metadata": {
        "id": "KVnD3Uxa6bRn"
      },
      "source": [
        "## Running Implemented Version\n",
        "\n"
      ]
    },
    {
      "cell_type": "markdown",
      "source": [
        "### Different MLP Solvers"
      ],
      "metadata": {
        "id": "d5Lo8mmFlpe5"
      }
    },
    {
      "cell_type": "markdown",
      "source": [
        "#### Adam"
      ],
      "metadata": {
        "id": "5OzWdgcjlytv"
      }
    },
    {
      "cell_type": "code",
      "source": [
        "from sklearn.preprocessing import StandardScaler\n",
        "from sklearn.neural_network import MLPRegressor\n",
        "from sklearn.model_selection import train_test_split\n",
        "\n",
        "#Setting Nurons number per hidden layers\n",
        "n_neurons = 10\n",
        "l = 1\n",
        "n_size = l * [n_neurons]\n",
        "\n",
        "# Create an MLPRegressor object\n",
        "mlp = MLPRegressor(hidden_layer_sizes=n_size, activation='relu', max_iter=500, solver='adam', random_state=3, **dict_l_alpha[l])\n",
        "\n",
        "# Separate the input features (X) and the target variable (y)\n",
        "X = trainset.loc[:, ['SAT', 'GPA', 'merit']]\n",
        "y = trainset.loc[:, 'enroll']\n",
        "\n",
        "# Split the data into training and testing sets\n",
        "X_train, X_test, y_train, y_test = train_test_split(X, y, test_size=0.4, random_state=42)\n",
        "\n",
        "# Fit the MLP to the data to compute the initial weights\n",
        "mlp.fit(X_train, y_train)\n",
        "\n",
        "#Getting weights and bias\n",
        "weights = mlp.coefs_\n",
        "bias = mlp.intercepts_"
      ],
      "metadata": {
        "id": "AiGrOb-4j6Ma"
      },
      "execution_count": null,
      "outputs": []
    },
    {
      "cell_type": "code",
      "source": [
        "mlp.score(X_test, y_test)"
      ],
      "metadata": {
        "id": "P89Ajb5Pj6M8",
        "colab": {
          "base_uri": "https://localhost:8080/"
        },
        "outputId": "0c583c86-9c61-4e41-f380-f83221268402"
      },
      "execution_count": null,
      "outputs": [
        {
          "output_type": "execute_result",
          "data": {
            "text/plain": [
              "0.9612498114793685"
            ]
          },
          "metadata": {},
          "execution_count": 37
        }
      ]
    },
    {
      "cell_type": "code",
      "source": [
        "%%time\n",
        "import pandas as pd\n",
        "import time\n",
        "from sklearn.utils import resample\n",
        "from sklearn.neural_network import MLPRegressor\n",
        "\n",
        "N = 25\n",
        "l = 1\n",
        "d = False\n",
        "\n",
        "model, s_testset = Modeling(N, l, testset, weights, bias, X.shape[1], 10, d)\n",
        "solver = pyo.SolverFactory('cbc', executable='/usr/bin/cbc', tee=True)\n",
        "\n",
        "start_time = time.time()\n",
        "result = solver.solve(model)\n",
        "solve_time = (time.time() - start_time)\n",
        "print(f\"Solve Time in Min: {solve_time/60}\")\n",
        "pyo.display(model.obj)"
      ],
      "metadata": {
        "id": "YyUUEjuXkJnx",
        "colab": {
          "base_uri": "https://localhost:8080/"
        },
        "outputId": "9d7f8747-244e-4ba6-d5f4-41d7e3991195"
      },
      "execution_count": null,
      "outputs": [
        {
          "output_type": "stream",
          "name": "stdout",
          "text": [
            "Solve Time in Min: 0.09361316363016764\n",
            "obj : Size=1, Index=None, Active=True\n",
            "    Key  : Active : Value\n",
            "    None :   True : 14.238627979819999\n",
            "CPU times: user 211 ms, sys: 77.2 ms, total: 288 ms\n",
            "Wall time: 5.68 s\n"
          ]
        }
      ]
    },
    {
      "cell_type": "code",
      "source": [
        "model.y.pprint()"
      ],
      "metadata": {
        "colab": {
          "base_uri": "https://localhost:8080/"
        },
        "id": "frHhTewS-6CH",
        "outputId": "19f89c15-5e89-48ca-b348-3f33dc816a13"
      },
      "execution_count": null,
      "outputs": [
        {
          "output_type": "stream",
          "name": "stdout",
          "text": [
            "y : Size=25, Index=i\n",
            "    Key : Lower : Value          : Upper : Fixed : Stale : Domain\n",
            "      1 :  None :      1.0011246 :  None : False : False :  Reals\n",
            "      2 :  None :      1.0043806 :  None : False : False :  Reals\n",
            "      3 :  None :     0.92351533 :  None : False : False :  Reals\n",
            "      4 :  None :       1.008626 :  None : False : False :  Reals\n",
            "      5 :  None :     0.96961991 :  None : False : False :  Reals\n",
            "      6 :  None :  -0.0019753724 :  None : False : False :  Reals\n",
            "      7 :  None :   0.0051982731 :  None : False : False :  Reals\n",
            "      8 :  None :     0.95577287 :  None : False : False :  Reals\n",
            "      9 :  None : -0.00070213698 :  None : False : False :  Reals\n",
            "     10 :  None :   0.0068685858 :  None : False : False :  Reals\n",
            "     11 :  None :      1.0019228 :  None : False : False :  Reals\n",
            "     12 :  None :      1.0009333 :  None : False : False :  Reals\n",
            "     13 :  None :     0.99874105 :  None : False : False :  Reals\n",
            "     14 :  None :     0.87026014 :  None : False : False :  Reals\n",
            "     15 :  None :   -0.014697509 :  None : False : False :  Reals\n",
            "     16 :  None :        1.00753 :  None : False : False :  Reals\n",
            "     17 :  None :    0.006924347 :  None : False : False :  Reals\n",
            "     18 :  None :     0.95373016 :  None : False : False :  Reals\n",
            "     19 :  None :     0.85373458 :  None : False : False :  Reals\n",
            "     20 :  None :  -0.0023899535 :  None : False : False :  Reals\n",
            "     21 :  None :     0.99150619 :  None : False : False :  Reals\n",
            "     22 :  None :   0.0044160971 :  None : False : False :  Reals\n",
            "     23 :  None :     0.67902259 :  None : False : False :  Reals\n",
            "     24 :  None :   0.0079870491 :  None : False : False :  Reals\n",
            "     25 :  None :   0.0065784796 :  None : False : False :  Reals\n"
          ]
        }
      ]
    },
    {
      "cell_type": "code",
      "source": [
        "model.x.pprint()"
      ],
      "metadata": {
        "colab": {
          "base_uri": "https://localhost:8080/"
        },
        "id": "buBGjE12-6CH",
        "outputId": "c40a7c45-a88c-4fca-c1d5-c01b544edfc3"
      },
      "execution_count": null,
      "outputs": [
        {
          "output_type": "stream",
          "name": "stdout",
          "text": [
            "x : Size=25, Index=i\n",
            "    Key : Lower : Value      : Upper : Fixed : Stale : Domain\n",
            "      1 :  None :        0.0 :  None : False : False :  Reals\n",
            "      2 :  None :        0.0 :  None : False : False :  Reals\n",
            "      3 :  None : 0.43435651 :  None : False : False :  Reals\n",
            "      4 :  None :        0.0 :  None : False : False :  Reals\n",
            "      5 :  None :  1.2031416 :  None : False : False :  Reals\n",
            "      6 :  None :        0.0 :  None : False : False :  Reals\n",
            "      7 :  None :        0.0 :  None : False : False :  Reals\n",
            "      8 :  None :   1.233705 :  None : False : False :  Reals\n",
            "      9 :  None :        0.0 :  None : False : False :  Reals\n",
            "     10 :  None :        0.0 :  None : False : False :  Reals\n",
            "     11 :  None :        0.0 :  None : False : False :  Reals\n",
            "     12 :  None :        0.0 :  None : False : False :  Reals\n",
            "     13 :  None :        0.0 :  None : False : False :  Reals\n",
            "     14 :  None : 0.49794974 :  None : False : False :  Reals\n",
            "     15 :  None :        0.0 :  None : False : False :  Reals\n",
            "     16 :  None :        0.0 :  None : False : False :  Reals\n",
            "     17 :  None :        0.0 :  None : False : False :  Reals\n",
            "     18 :  None :  0.8806554 :  None : False : False :  Reals\n",
            "     19 :  None : 0.26727183 :  None : False : False :  Reals\n",
            "     20 :  None :        0.0 :  None : False : False :  Reals\n",
            "     21 :  None :        0.0 :  None : False : False :  Reals\n",
            "     22 :  None :        0.0 :  None : False : False :  Reals\n",
            "     23 :  None : 0.48291997 :  None : False : False :  Reals\n",
            "     24 :  None :        0.0 :  None : False : False :  Reals\n",
            "     25 :  None :        0.0 :  None : False : False :  Reals\n"
          ]
        }
      ]
    },
    {
      "cell_type": "markdown",
      "source": [
        "##### Computing Average Performance"
      ],
      "metadata": {
        "id": "xD3cAIQiYvef"
      }
    },
    {
      "cell_type": "code",
      "source": [
        "N = 25\n",
        "l = 1\n",
        "d = False\n",
        "\n",
        "res_adam = []\n",
        "while len(res_adam) <= 30:\n",
        "  model, s_testset = Modeling(N, l, testset, weights, bias, X.shape[1], 10, d)\n",
        "  solver = pyo.SolverFactory('cbc', executable='/usr/bin/cbc', tee=True)\n",
        "\n",
        "  start_time = time.time()\n",
        "  result = solver.solve(model)\n",
        "  solve_time = (time.time() - start_time)\n",
        "  print(f\"Solve Time in Min: {solve_time/60}\")\n",
        "  # check the status and termination condition of the result\n",
        "  if result.solver.status == pyo.SolverStatus.ok and result.solver.termination_condition == pyo.TerminationCondition.optimal:\n",
        "    # access the objective value\n",
        "    obj_val = pyo.value(model.obj)\n",
        "    print(f\"Objective value: {obj_val}\")\n",
        "    # save the objective value to the res list\n",
        "    res_adam.append(obj_val)\n",
        "  else:\n",
        "    # the problem was not solved optimally\n",
        "    print(\"The problem was not solved optimally\")\n",
        "    print(f\"Termination condition: {result.solver.termination_condition}\")"
      ],
      "metadata": {
        "colab": {
          "base_uri": "https://localhost:8080/"
        },
        "outputId": "a97aebee-a25d-4a88-b048-ff75c26561f6",
        "id": "9aA3X7GCYvef"
      },
      "execution_count": null,
      "outputs": [
        {
          "output_type": "stream",
          "name": "stdout",
          "text": [
            "Solve Time in Min: 0.05118072032928467\n",
            "Objective value: 13.63252032426\n",
            "Solve Time in Min: 0.0673355499903361\n",
            "Objective value: 14.253937030020003\n",
            "Solve Time in Min: 0.026890607674916585\n",
            "Objective value: 12.869720185299999\n",
            "Solve Time in Min: 0.1227588136990865\n",
            "Objective value: 15.662252798249998\n",
            "Solve Time in Min: 0.03530945380528768\n",
            "Objective value: 19.748395273610004\n",
            "Solve Time in Min: 0.02674362262090047\n",
            "Objective value: 13.779510951060002\n",
            "Solve Time in Min: 0.008962007363637288\n",
            "Objective value: 16.688803393729998\n",
            "Solve Time in Min: 0.02846705913543701\n",
            "Objective value: 14.840089351800003\n",
            "Solve Time in Min: 0.04347480932871501\n",
            "Objective value: 14.0549804929\n",
            "Solve Time in Min: 0.022524627049763997\n",
            "Objective value: 17.9380263593\n",
            "Solve Time in Min: 0.059160431226094566\n",
            "Objective value: 14.232068036288\n",
            "Solve Time in Min: 0.013463421662648519\n",
            "Objective value: 10.0065408499\n",
            "Solve Time in Min: 0.012687929471333821\n",
            "Objective value: 18.969754505999994\n",
            "Solve Time in Min: 0.03710731267929077\n",
            "Objective value: 17.9235722115\n",
            "Solve Time in Min: 0.02421179215113322\n",
            "Objective value: 17.837409479\n",
            "Solve Time in Min: 0.1992946704228719\n",
            "Objective value: 17.547618099399998\n",
            "Solve Time in Min: 0.03511790037155151\n",
            "Objective value: 11.918140839250999\n",
            "Solve Time in Min: 0.021953765551249185\n",
            "Objective value: 15.6259655571\n",
            "Solve Time in Min: 0.06389360825220744\n",
            "Objective value: 16.862075270300004\n",
            "Solve Time in Min: 0.030461180210113525\n",
            "Objective value: 16.9598069255\n",
            "Solve Time in Min: 0.016108957926432292\n",
            "Objective value: 12.9331843005\n",
            "Solve Time in Min: 0.026381190617879233\n",
            "Objective value: 11.815886505567\n",
            "Solve Time in Min: 0.023729705810546876\n",
            "Objective value: 14.906922923600002\n",
            "Solve Time in Min: 0.021106870969136556\n",
            "Objective value: 13.422437676309997\n",
            "Solve Time in Min: 0.04102001190185547\n",
            "Objective value: 16.3292269487\n",
            "Solve Time in Min: 0.06891810099283854\n",
            "Objective value: 15.242581241599998\n",
            "Solve Time in Min: 0.01827411651611328\n",
            "Objective value: 15.787142565399998\n",
            "Solve Time in Min: 0.03489170471827189\n",
            "Objective value: 12.630322810700001\n",
            "Solve Time in Min: 0.026277339458465575\n",
            "Objective value: 8.798144002909998\n",
            "Solve Time in Min: 0.02264258861541748\n",
            "Objective value: 13.9353709825\n",
            "Solve Time in Min: 0.10152640342712402\n",
            "Objective value: 13.4132347146\n"
          ]
        }
      ]
    },
    {
      "cell_type": "code",
      "source": [
        "print(f\"mean result = {np.mean(res_adam)}, std result = {np.std(res_adam)}\")"
      ],
      "metadata": {
        "colab": {
          "base_uri": "https://localhost:8080/"
        },
        "outputId": "d9707ef0-5a07-4e67-b47c-10f45430da38",
        "id": "o40tfPrmYveg"
      },
      "execution_count": null,
      "outputs": [
        {
          "output_type": "stream",
          "name": "stdout",
          "text": [
            "mean result = 14.85695621312439, std result = 2.487781772895918\n"
          ]
        }
      ]
    },
    {
      "cell_type": "markdown",
      "source": [
        "#### Adam (Not Tuned)"
      ],
      "metadata": {
        "id": "_1rCAiz6vy3X"
      }
    },
    {
      "cell_type": "code",
      "source": [
        "from sklearn.preprocessing import StandardScaler\n",
        "from sklearn.neural_network import MLPRegressor\n",
        "from sklearn.model_selection import train_test_split\n",
        "\n",
        "#Setting Nurons number per hidden layers\n",
        "n_neurons = 10\n",
        "l = 1\n",
        "n_size = l * [n_neurons]\n",
        "\n",
        "# Create an MLPRegressor object\n",
        "mlp = MLPRegressor(hidden_layer_sizes=n_size)\n",
        "\n",
        "# Separate the input features (X) and the target variable (y)\n",
        "X = trainset.loc[:, ['SAT', 'GPA', 'merit']]\n",
        "y = trainset.loc[:, 'enroll']\n",
        "\n",
        "# Split the data into training and testing sets\n",
        "X_train, X_test, y_train, y_test = train_test_split(X, y, test_size=0.4, random_state=42)\n",
        "\n",
        "# Fit the MLP to the data to compute the initial weights\n",
        "mlp.fit(X_train, y_train)\n",
        "\n",
        "#Getting weights and bias\n",
        "weights = mlp.coefs_\n",
        "bias = mlp.intercepts_"
      ],
      "metadata": {
        "id": "B6H-m8ihvy3X"
      },
      "execution_count": null,
      "outputs": []
    },
    {
      "cell_type": "code",
      "source": [
        "mlp.score(X_test, y_test)"
      ],
      "metadata": {
        "colab": {
          "base_uri": "https://localhost:8080/"
        },
        "outputId": "939144fc-f80b-45b2-91fe-920cbf963008",
        "id": "3cge48lXvy3Y"
      },
      "execution_count": null,
      "outputs": [
        {
          "output_type": "execute_result",
          "data": {
            "text/plain": [
              "0.9654042805107322"
            ]
          },
          "metadata": {},
          "execution_count": 44
        }
      ]
    },
    {
      "cell_type": "code",
      "source": [
        "%%time\n",
        "import pandas as pd\n",
        "import time\n",
        "from sklearn.utils import resample\n",
        "from sklearn.neural_network import MLPRegressor\n",
        "\n",
        "N = 25\n",
        "l = 1\n",
        "d = False\n",
        "\n",
        "model, s_testset = Modeling(N, l, testset, weights, bias, X.shape[1], 10, d)\n",
        "solver = pyo.SolverFactory('cbc', executable='/usr/bin/cbc', tee=True)\n",
        "\n",
        "start_time = time.time()\n",
        "result = solver.solve(model)\n",
        "solve_time = (time.time() - start_time)\n",
        "print(f\"Solve Time in Min: {solve_time/60}\")\n",
        "pyo.display(model.obj)"
      ],
      "metadata": {
        "colab": {
          "base_uri": "https://localhost:8080/"
        },
        "outputId": "31f9e70e-65e3-41f2-9087-32b9f736dc66",
        "id": "q1KjN7Sfvy3Y"
      },
      "execution_count": null,
      "outputs": [
        {
          "output_type": "stream",
          "name": "stdout",
          "text": [
            "Solve Time in Min: 0.019599302609761556\n",
            "obj : Size=1, Index=None, Active=True\n",
            "    Key  : Active : Value\n",
            "    None :   True : 16.9500203361\n",
            "CPU times: user 164 ms, sys: 91.7 ms, total: 255 ms\n",
            "Wall time: 1.23 s\n"
          ]
        }
      ]
    },
    {
      "cell_type": "code",
      "source": [
        "model.y.pprint()"
      ],
      "metadata": {
        "colab": {
          "base_uri": "https://localhost:8080/"
        },
        "id": "ynGIrHkG-zoX",
        "outputId": "7ebf17bf-e947-4b2c-d372-8a2f5a5c4063"
      },
      "execution_count": null,
      "outputs": [
        {
          "output_type": "stream",
          "name": "stdout",
          "text": [
            "y : Size=25, Index=i\n",
            "    Key : Lower : Value         : Upper : Fixed : Stale : Domain\n",
            "      1 :  None :     1.0029565 :  None : False : False :  Reals\n",
            "      2 :  None :  -0.005777494 :  None : False : False :  Reals\n",
            "      3 :  None :  0.0028332092 :  None : False : False :  Reals\n",
            "      4 :  None :     1.0042065 :  None : False : False :  Reals\n",
            "      5 :  None : -0.0060023142 :  None : False : False :  Reals\n",
            "      6 :  None :    0.98521295 :  None : False : False :  Reals\n",
            "      7 :  None :    0.99172234 :  None : False : False :  Reals\n",
            "      8 :  None :     1.0045025 :  None : False : False :  Reals\n",
            "      9 :  None :     0.9771181 :  None : False : False :  Reals\n",
            "     10 :  None :     1.0080585 :  None : False : False :  Reals\n",
            "     11 :  None :    0.98841122 :  None : False : False :  Reals\n",
            "     12 :  None :     1.0283158 :  None : False : False :  Reals\n",
            "     13 :  None : -0.0029779348 :  None : False : False :  Reals\n",
            "     14 :  None :      1.002398 :  None : False : False :  Reals\n",
            "     15 :  None :    0.99595496 :  None : False : False :  Reals\n",
            "     16 :  None :    0.98491423 :  None : False : False :  Reals\n",
            "     17 :  None :     1.0269643 :  None : False : False :  Reals\n",
            "     18 :  None :     0.9816976 :  None : False : False :  Reals\n",
            "     19 :  None :  -0.001491022 :  None : False : False :  Reals\n",
            "     20 :  None :    0.99738554 :  None : False : False :  Reals\n",
            "     21 :  None : -0.0050485758 :  None : False : False :  Reals\n",
            "     22 :  None :     1.0180989 :  None : False : False :  Reals\n",
            "     23 :  None : -0.0028073799 :  None : False : False :  Reals\n",
            "     24 :  None :    0.97978197 :  None : False : False :  Reals\n",
            "     25 :  None : -0.0064080624 :  None : False : False :  Reals\n"
          ]
        }
      ]
    },
    {
      "cell_type": "code",
      "source": [
        "model.x.pprint()"
      ],
      "metadata": {
        "colab": {
          "base_uri": "https://localhost:8080/"
        },
        "id": "0nQaynSt-xko",
        "outputId": "32867c75-5d17-40ca-c7d2-ea5045aa9685"
      },
      "execution_count": null,
      "outputs": [
        {
          "output_type": "stream",
          "name": "stdout",
          "text": [
            "x : Size=25, Index=i\n",
            "    Key : Lower : Value      : Upper : Fixed : Stale : Domain\n",
            "      1 :  None :        0.0 :  None : False : False :  Reals\n",
            "      2 :  None :        0.0 :  None : False : False :  Reals\n",
            "      3 :  None :        0.0 :  None : False : False :  Reals\n",
            "      4 :  None :        0.0 :  None : False : False :  Reals\n",
            "      5 :  None :        0.0 :  None : False : False :  Reals\n",
            "      6 :  None :        0.0 :  None : False : False :  Reals\n",
            "      7 :  None :        0.0 :  None : False : False :  Reals\n",
            "      8 :  None : 0.62405786 :  None : False : False :  Reals\n",
            "      9 :  None :        0.0 :  None : False : False :  Reals\n",
            "     10 :  None :  1.3184742 :  None : False : False :  Reals\n",
            "     11 :  None :  0.2865239 :  None : False : False :  Reals\n",
            "     12 :  None :        0.0 :  None : False : False :  Reals\n",
            "     13 :  None :        0.0 :  None : False : False :  Reals\n",
            "     14 :  None :        0.0 :  None : False : False :  Reals\n",
            "     15 :  None : 0.14740946 :  None : False : False :  Reals\n",
            "     16 :  None :        0.0 :  None : False : False :  Reals\n",
            "     17 :  None : 0.99935418 :  None : False : False :  Reals\n",
            "     18 :  None :  0.1795138 :  None : False : False :  Reals\n",
            "     19 :  None :        0.0 :  None : False : False :  Reals\n",
            "     20 :  None :        0.0 :  None : False : False :  Reals\n",
            "     21 :  None :        0.0 :  None : False : False :  Reals\n",
            "     22 :  None :  1.4446666 :  None : False : False :  Reals\n",
            "     23 :  None :        0.0 :  None : False : False :  Reals\n",
            "     24 :  None :        0.0 :  None : False : False :  Reals\n",
            "     25 :  None :        0.0 :  None : False : False :  Reals\n"
          ]
        }
      ]
    },
    {
      "cell_type": "markdown",
      "source": [
        "##### Computing Average Performance"
      ],
      "metadata": {
        "id": "ZUviDvY3sB7r"
      }
    },
    {
      "cell_type": "code",
      "source": [
        "N = 25\n",
        "l = 1\n",
        "d = False\n",
        "\n",
        "res_adam_nt = []\n",
        "while len(res_adam_nt) <= 30:\n",
        "  model, s_testset = Modeling(N, l, testset, weights, bias, X.shape[1], 10, d)\n",
        "  solver = pyo.SolverFactory('cbc', executable='/usr/bin/cbc', tee=True)\n",
        "\n",
        "  start_time = time.time()\n",
        "  result = solver.solve(model)\n",
        "  solve_time = (time.time() - start_time)\n",
        "  print(f\"Solve Time in Min: {solve_time/60}\")\n",
        "  # check the status and termination condition of the result\n",
        "  if result.solver.status == pyo.SolverStatus.ok and result.solver.termination_condition == pyo.TerminationCondition.optimal:\n",
        "    # access the objective value\n",
        "    obj_val = pyo.value(model.obj)\n",
        "    print(f\"Objective value: {obj_val}\")\n",
        "    # save the objective value to the res list\n",
        "    res_adam_nt.append(obj_val)\n",
        "  else:\n",
        "    # the problem was not solved optimally\n",
        "    print(\"The problem was not solved optimally\")\n",
        "    print(f\"Termination condition: {result.solver.termination_condition}\")"
      ],
      "metadata": {
        "colab": {
          "base_uri": "https://localhost:8080/"
        },
        "outputId": "5c227b86-8004-4f29-d26d-0c970b0c5e0b",
        "id": "NJgGr_Q8sB7s"
      },
      "execution_count": null,
      "outputs": [
        {
          "output_type": "stream",
          "name": "stdout",
          "text": [
            "Solve Time in Min: 0.004818089803059896\n",
            "Objective value: 19.2246359904\n",
            "Solve Time in Min: 0.00600745677947998\n",
            "Objective value: 15.048367578596999\n",
            "Solve Time in Min: 0.014658749103546143\n",
            "Objective value: 13.063466213914998\n",
            "Solve Time in Min: 0.008191521962483723\n",
            "Objective value: 14.013607359399998\n",
            "Solve Time in Min: 0.006598182519276937\n",
            "Objective value: 8.019243143130002\n",
            "Solve Time in Min: 0.013962360223134358\n",
            "Objective value: 16.109333301160003\n",
            "Solve Time in Min: 0.011504451433817545\n",
            "Objective value: 11.952254074540003\n",
            "Solve Time in Min: 0.017780176798502603\n",
            "Objective value: 12.839913472799998\n",
            "Solve Time in Min: 0.01357202132542928\n",
            "Objective value: 15.0380760568\n",
            "Solve Time in Min: 0.015346844991048178\n",
            "Objective value: 15.018618836960004\n",
            "Solve Time in Min: 0.018854467074076335\n",
            "Objective value: 15.000536617919998\n",
            "Solve Time in Min: 0.03254065116246541\n",
            "Objective value: 13.0328737619\n",
            "Solve Time in Min: 0.011861129601796468\n",
            "Objective value: 14.14101174433\n",
            "Solve Time in Min: 0.012336794535319011\n",
            "Objective value: 18.05487802204\n",
            "Solve Time in Min: 0.006853326161702474\n",
            "Objective value: 14.0116297351\n",
            "Solve Time in Min: 0.007336525122324625\n",
            "Objective value: 15.919225166164997\n",
            "Solve Time in Min: 0.017974642912546794\n",
            "Objective value: 14.181605726935004\n",
            "Solve Time in Min: 0.02336496909459432\n",
            "Objective value: 16.65462752477\n",
            "Solve Time in Min: 0.01330560843149821\n",
            "Objective value: 14.99871100693\n",
            "Solve Time in Min: 0.02382550636927287\n",
            "Objective value: 13.152481637289998\n",
            "Solve Time in Min: 0.008961343765258789\n",
            "Objective value: 15.9632739152\n",
            "Solve Time in Min: 0.01825331449508667\n",
            "Objective value: 14.947162808399998\n",
            "Solve Time in Min: 0.036121678352355954\n",
            "Objective value: 13.140610479639998\n",
            "Solve Time in Min: 0.04858632087707519\n",
            "Objective value: 13.03044702555\n",
            "Solve Time in Min: 0.009345205624898274\n",
            "Objective value: 12.067878302720002\n",
            "Solve Time in Min: 0.0130548357963562\n",
            "Objective value: 10.1269225817\n",
            "Solve Time in Min: 0.010481452941894532\n",
            "Objective value: 13.032401778810002\n",
            "Solve Time in Min: 0.0269639253616333\n",
            "Objective value: 12.952976444004003\n",
            "Solve Time in Min: 0.010597177346547445\n",
            "Objective value: 14.062420340140001\n",
            "Solve Time in Min: 0.010073228677113851\n",
            "Objective value: 16.145774729799996\n",
            "Solve Time in Min: 0.01171106497446696\n",
            "Objective value: 18.8368663996\n"
          ]
        }
      ]
    },
    {
      "cell_type": "code",
      "source": [
        "print(f\"mean result = {np.mean(res_adam_nt)}, std result = {np.std(res_adam_nt)}\")"
      ],
      "metadata": {
        "colab": {
          "base_uri": "https://localhost:8080/"
        },
        "outputId": "31ea0953-04be-4bc0-abad-ca6879777aa8",
        "id": "h-Sf8N46sB7s"
      },
      "execution_count": null,
      "outputs": [
        {
          "output_type": "stream",
          "name": "stdout",
          "text": [
            "mean result = 14.315542960536968, std result = 2.272821177993103\n"
          ]
        }
      ]
    },
    {
      "cell_type": "markdown",
      "source": [
        "#### SGD"
      ],
      "metadata": {
        "id": "bmu0zZ-il5Rn"
      }
    },
    {
      "cell_type": "code",
      "source": [
        "from sklearn.preprocessing import StandardScaler\n",
        "from sklearn.neural_network import MLPRegressor\n",
        "from sklearn.model_selection import train_test_split\n",
        "\n",
        "#Setting Nurons number per hidden layers\n",
        "n_neurons = 10\n",
        "l = 1\n",
        "n_size = l * [n_neurons]\n",
        "\n",
        "# Create an MLPRegressor object\n",
        "mlp = MLPRegressor(hidden_layer_sizes=n_size, activation='relu', max_iter=3000, solver='sgd', random_state=3)\n",
        "\n",
        "# Separate the input features (X) and the target variable (y)\n",
        "X = trainset.loc[:, ['SAT', 'GPA', 'merit']]\n",
        "y = trainset.loc[:, 'enroll']\n",
        "\n",
        "# Split the data into training and testing sets\n",
        "X_train, X_test, y_train, y_test = train_test_split(X, y, test_size=0.2, random_state=42)\n",
        "\n",
        "# Fit the MLP to the data to compute the initial weights\n",
        "mlp.fit(X_train, y_train)\n",
        "\n",
        "#Getting weights and bias\n",
        "weights = mlp.coefs_\n",
        "bias = mlp.intercepts_"
      ],
      "metadata": {
        "id": "gyjymWLOlxg0"
      },
      "execution_count": null,
      "outputs": []
    },
    {
      "cell_type": "code",
      "source": [
        "mlp.score(X_test, y_test)"
      ],
      "metadata": {
        "id": "cb28A5QQlxhV",
        "colab": {
          "base_uri": "https://localhost:8080/"
        },
        "outputId": "8f24ed42-3f53-43cb-94c8-ae95986deb9a"
      },
      "execution_count": null,
      "outputs": [
        {
          "output_type": "execute_result",
          "data": {
            "text/plain": [
              "0.8843476598285834"
            ]
          },
          "metadata": {},
          "execution_count": 70
        }
      ]
    },
    {
      "cell_type": "code",
      "source": [
        "%%time\n",
        "import pandas as pd\n",
        "import time\n",
        "from sklearn.utils import resample\n",
        "from sklearn.neural_network import MLPRegressor\n",
        "\n",
        "N = 25\n",
        "l = 1\n",
        "d = False\n",
        "\n",
        "model, s_testset = Modeling(N, l, testset, weights, bias, X.shape[1], 10, d)\n",
        "solver = pyo.SolverFactory('cbc', executable='/usr/bin/cbc', tee=True)\n",
        "\n",
        "start_time = time.time()\n",
        "result = solver.solve(model)\n",
        "solve_time = (time.time() - start_time)\n",
        "print(f\"Solve Time in Min: {solve_time/60}\")\n",
        "pyo.display(model.obj)"
      ],
      "metadata": {
        "id": "KowZwIxzlxhX",
        "colab": {
          "base_uri": "https://localhost:8080/"
        },
        "outputId": "0ed734d0-5314-442b-b970-e20c10e084e5"
      },
      "execution_count": null,
      "outputs": [
        {
          "output_type": "stream",
          "name": "stdout",
          "text": [
            "Solve Time in Min: 0.019126482804616294\n",
            "obj : Size=1, Index=None, Active=True\n",
            "    Key  : Active : Value\n",
            "    None :   True : 12.02837063\n",
            "CPU times: user 366 ms, sys: 31.8 ms, total: 398 ms\n",
            "Wall time: 1.43 s\n"
          ]
        }
      ]
    },
    {
      "cell_type": "code",
      "source": [
        "model.y.pprint()"
      ],
      "metadata": {
        "colab": {
          "base_uri": "https://localhost:8080/"
        },
        "id": "uHzqBkfB-8MB",
        "outputId": "87a3d2ec-fb88-46af-d71f-1dcf13a9ce32"
      },
      "execution_count": null,
      "outputs": [
        {
          "output_type": "stream",
          "name": "stdout",
          "text": [
            "y : Size=25, Index=i\n",
            "    Key : Lower : Value        : Upper : Fixed : Stale : Domain\n",
            "      1 :  None :   0.97572721 :  None : False : False :  Reals\n",
            "      2 :  None :  -0.10054815 :  None : False : False :  Reals\n",
            "      3 :  None : -0.090160298 :  None : False : False :  Reals\n",
            "      4 :  None :   0.92280911 :  None : False : False :  Reals\n",
            "      5 :  None :    0.6899641 :  None : False : False :  Reals\n",
            "      6 :  None : -0.088066597 :  None : False : False :  Reals\n",
            "      7 :  None :    1.0080432 :  None : False : False :  Reals\n",
            "      8 :  None :  -0.10721187 :  None : False : False :  Reals\n",
            "      9 :  None :    1.0406199 :  None : False : False :  Reals\n",
            "     10 :  None :   0.81606107 :  None : False : False :  Reals\n",
            "     11 :  None :   0.86104295 :  None : False : False :  Reals\n",
            "     12 :  None :    1.0249687 :  None : False : False :  Reals\n",
            "     13 :  None :  -0.10134527 :  None : False : False :  Reals\n",
            "     14 :  None :   0.91146699 :  None : False : False :  Reals\n",
            "     15 :  None : -0.083472072 :  None : False : False :  Reals\n",
            "     16 :  None :  -0.10120226 :  None : False : False :  Reals\n",
            "     17 :  None :    1.0047152 :  None : False : False :  Reals\n",
            "     18 :  None :  -0.10444384 :  None : False : False :  Reals\n",
            "     19 :  None :   0.91134009 :  None : False : False :  Reals\n",
            "     20 :  None :   0.94411683 :  None : False : False :  Reals\n",
            "     21 :  None : -0.096563343 :  None : False : False :  Reals\n",
            "     22 :  None :   0.98748973 :  None : False : False :  Reals\n",
            "     23 :  None :    1.0100012 :  None : False : False :  Reals\n",
            "     24 :  None :   -0.1037187 :  None : False : False :  Reals\n",
            "     25 :  None :  -0.10326325 :  None : False : False :  Reals\n"
          ]
        }
      ]
    },
    {
      "cell_type": "code",
      "source": [
        "model.x.pprint()"
      ],
      "metadata": {
        "colab": {
          "base_uri": "https://localhost:8080/"
        },
        "id": "4G7teENM-8ML",
        "outputId": "11beadd2-9cf5-45ae-f755-9d353cab5d1a"
      },
      "execution_count": null,
      "outputs": [
        {
          "output_type": "stream",
          "name": "stdout",
          "text": [
            "x : Size=25, Index=i\n",
            "    Key : Lower : Value      : Upper : Fixed : Stale : Domain\n",
            "      1 :  None :        0.0 :  None : False : False :  Reals\n",
            "      2 :  None :        0.0 :  None : False : False :  Reals\n",
            "      3 :  None :        0.0 :  None : False : False :  Reals\n",
            "      4 :  None :        0.0 :  None : False : False :  Reals\n",
            "      5 :  None :  0.5354615 :  None : False : False :  Reals\n",
            "      6 :  None :        0.0 :  None : False : False :  Reals\n",
            "      7 :  None :        0.0 :  None : False : False :  Reals\n",
            "      8 :  None :        0.0 :  None : False : False :  Reals\n",
            "      9 :  None :        0.0 :  None : False : False :  Reals\n",
            "     10 :  None :  1.9892994 :  None : False : False :  Reals\n",
            "     11 :  None :  2.1958958 :  None : False : False :  Reals\n",
            "     12 :  None :        0.0 :  None : False : False :  Reals\n",
            "     13 :  None :        0.0 :  None : False : False :  Reals\n",
            "     14 :  None :        0.0 :  None : False : False :  Reals\n",
            "     15 :  None :        0.0 :  None : False : False :  Reals\n",
            "     16 :  None :        0.0 :  None : False : False :  Reals\n",
            "     17 :  None :        0.0 :  None : False : False :  Reals\n",
            "     18 :  None :        0.0 :  None : False : False :  Reals\n",
            "     19 :  None : 0.27934331 :  None : False : False :  Reals\n",
            "     20 :  None :        0.0 :  None : False : False :  Reals\n",
            "     21 :  None :        0.0 :  None : False : False :  Reals\n",
            "     22 :  None :        0.0 :  None : False : False :  Reals\n",
            "     23 :  None :        0.0 :  None : False : False :  Reals\n",
            "     24 :  None :        0.0 :  None : False : False :  Reals\n",
            "     25 :  None :        0.0 :  None : False : False :  Reals\n"
          ]
        }
      ]
    },
    {
      "cell_type": "markdown",
      "source": [
        "##### Computing Average Performance"
      ],
      "metadata": {
        "id": "XncoW5RHY2QU"
      }
    },
    {
      "cell_type": "code",
      "source": [
        "N = 25\n",
        "l = 1\n",
        "d = False\n",
        "\n",
        "res_sgd = []\n",
        "while len(res_sgd) <= 30:\n",
        "  model, s_testset = Modeling(N, l, testset, weights, bias, X.shape[1], 10, d)\n",
        "  solver = pyo.SolverFactory('cbc', executable='/usr/bin/cbc', tee=True)\n",
        "\n",
        "  start_time = time.time()\n",
        "  result = solver.solve(model)\n",
        "  solve_time = (time.time() - start_time)\n",
        "  print(f\"Solve Time in Min: {solve_time/60}\")\n",
        "  # check the status and termination condition of the result\n",
        "  if result.solver.status == pyo.SolverStatus.ok and result.solver.termination_condition == pyo.TerminationCondition.optimal:\n",
        "    # access the objective value\n",
        "    obj_val = pyo.value(model.obj)\n",
        "    print(f\"Objective value: {obj_val}\")\n",
        "    # save the objective value to the res list\n",
        "    res_sgd.append(obj_val)\n",
        "  else:\n",
        "    # the problem was not solved optimally\n",
        "    print(\"The problem was not solved optimally\")\n",
        "    print(f\"Termination condition: {result.solver.termination_condition}\")"
      ],
      "metadata": {
        "colab": {
          "base_uri": "https://localhost:8080/"
        },
        "outputId": "ed36d87a-340a-497a-806f-874678889f97",
        "id": "iymwlq5JY2Qd"
      },
      "execution_count": null,
      "outputs": [
        {
          "output_type": "stream",
          "name": "stdout",
          "text": [
            "Solve Time in Min: 0.01256546974182129\n",
            "Objective value: 16.263639038\n",
            "Solve Time in Min: 0.01078250010808309\n",
            "Objective value: 14.159042697999999\n",
            "Solve Time in Min: 0.03688872257868449\n",
            "Objective value: 12.361037853999997\n",
            "Solve Time in Min: 0.018603440125783285\n",
            "Objective value: 6.912532199999998\n",
            "Solve Time in Min: 0.010484580198923748\n",
            "Objective value: 10.876032205000001\n",
            "Solve Time in Min: 0.011595110098520914\n",
            "Objective value: 9.827035408000004\n",
            "Solve Time in Min: 0.03671725988388062\n",
            "Objective value: 10.689633364999999\n",
            "Solve Time in Min: 0.020042864481608073\n",
            "Objective value: 11.282063087000001\n",
            "Solve Time in Min: 0.04826375643412272\n",
            "Objective value: 12.360424365000004\n",
            "Solve Time in Min: 0.01717193126678467\n",
            "Objective value: 12.738272539\n",
            "Solve Time in Min: 0.008712267875671387\n",
            "Objective value: 11.585489778999998\n",
            "Solve Time in Min: 0.008346537748972574\n",
            "Objective value: 14.6749114125\n",
            "Solve Time in Min: 0.018980626265207926\n",
            "Objective value: 14.358409618999996\n",
            "Solve Time in Min: 0.023832770188649495\n",
            "Objective value: 10.903466870999997\n",
            "Solve Time in Min: 0.02230910857518514\n",
            "Objective value: 13.783202566\n",
            "Solve Time in Min: 0.010372817516326904\n",
            "Objective value: 5.454066824000001\n",
            "Solve Time in Min: 0.015685252348581948\n",
            "Objective value: 9.118668808\n",
            "Solve Time in Min: 0.028243084748586018\n",
            "Objective value: 17.754002360999998\n",
            "Solve Time in Min: 0.010784029960632324\n",
            "Objective value: 13.880753243999997\n",
            "Solve Time in Min: 0.02117786407470703\n",
            "Objective value: 14.331336409\n",
            "Solve Time in Min: 0.01987607479095459\n",
            "Objective value: 15.383036477000005\n",
            "Solve Time in Min: 0.013164329528808593\n",
            "Objective value: 12.464079632000004\n",
            "Solve Time in Min: 0.020726263523101807\n",
            "Objective value: 12.712959048\n",
            "Solve Time in Min: 0.009378588199615479\n",
            "Objective value: 8.847401387\n",
            "Solve Time in Min: 0.010784280300140382\n",
            "Objective value: 16.735618314000003\n",
            "Solve Time in Min: 0.0177671750386556\n",
            "Objective value: 10.392814165999997\n",
            "Solve Time in Min: 0.010118929545084636\n",
            "Objective value: 10.120650215\n",
            "Solve Time in Min: 0.007539427280426026\n",
            "Objective value: 9.042257977\n",
            "Solve Time in Min: 0.017346469561258952\n",
            "Objective value: 9.437269324999999\n",
            "Solve Time in Min: 0.017091461022694907\n",
            "Objective value: 9.491228267\n",
            "Solve Time in Min: 0.008548859755198162\n",
            "Objective value: 10.418844119\n"
          ]
        }
      ]
    },
    {
      "cell_type": "code",
      "source": [
        "print(f\"mean result = {np.mean(res_sgd)}, std result = {np.std(res_sgd)}\")"
      ],
      "metadata": {
        "colab": {
          "base_uri": "https://localhost:8080/"
        },
        "outputId": "a03006c1-29c8-481e-fc45-edc4681ad8e9",
        "id": "wzblv5AvY2Qd"
      },
      "execution_count": null,
      "outputs": [
        {
          "output_type": "stream",
          "name": "stdout",
          "text": [
            "mean result = 11.882586438048389, std result = 2.797347774775704\n"
          ]
        }
      ]
    },
    {
      "cell_type": "markdown",
      "source": [
        "#### lbfgs"
      ],
      "metadata": {
        "id": "89df4ofYl8hN"
      }
    },
    {
      "cell_type": "code",
      "source": [
        "from sklearn.preprocessing import StandardScaler\n",
        "from sklearn.neural_network import MLPRegressor\n",
        "from sklearn.model_selection import train_test_split\n",
        "\n",
        "#Setting Nurons number per hidden layers\n",
        "n_neurons = 10\n",
        "l = 1\n",
        "n_size = l * [n_neurons]\n",
        "\n",
        "# Create an MLPRegressor object\n",
        "mlp = MLPRegressor(hidden_layer_sizes=n_size, activation='relu', max_iter=1000, solver='lbfgs', random_state=3)\n",
        "\n",
        "# Separate the input features (X) and the target variable (y)\n",
        "X = trainset.loc[:, ['SAT', 'GPA', 'merit']]\n",
        "y = trainset.loc[:, 'enroll']\n",
        "\n",
        "# Split the data into training and testing sets\n",
        "X_train, X_test, y_train, y_test = train_test_split(X, y, test_size=0.2, random_state=42)\n",
        "\n",
        "# Fit the MLP to the data to compute the initial weights\n",
        "mlp.fit(X_train, y_train)\n",
        "\n",
        "#Getting weights and bias\n",
        "weights = mlp.coefs_\n",
        "bias = mlp.intercepts_"
      ],
      "metadata": {
        "id": "VbdHnd1dg2We"
      },
      "execution_count": null,
      "outputs": []
    },
    {
      "cell_type": "code",
      "source": [
        "mlp.score(X_test, y_test)"
      ],
      "metadata": {
        "id": "XLbXV6hehJBn",
        "colab": {
          "base_uri": "https://localhost:8080/"
        },
        "outputId": "71890c66-d991-4ace-e937-f774be3b0975"
      },
      "execution_count": null,
      "outputs": [
        {
          "output_type": "execute_result",
          "data": {
            "text/plain": [
              "0.9994086460179425"
            ]
          },
          "metadata": {},
          "execution_count": 59
        }
      ]
    },
    {
      "cell_type": "code",
      "execution_count": null,
      "metadata": {
        "id": "zkrwFJQ8skG4",
        "colab": {
          "base_uri": "https://localhost:8080/"
        },
        "outputId": "dbe280e1-8161-496a-ebd3-e5ca38f5393d"
      },
      "outputs": [
        {
          "output_type": "stream",
          "name": "stdout",
          "text": [
            "Solve Time in Min: 0.14032047589619953\n",
            "obj : Size=1, Index=None, Active=True\n",
            "    Key  : Active : Value\n",
            "    None :   True : 18.00683143682\n",
            "CPU times: user 196 ms, sys: 92.7 ms, total: 289 ms\n",
            "Wall time: 8.47 s\n"
          ]
        }
      ],
      "source": [
        "%%time\n",
        "import pandas as pd\n",
        "import time\n",
        "from sklearn.utils import resample\n",
        "from sklearn.neural_network import MLPRegressor\n",
        "\n",
        "N = 25\n",
        "l = 1\n",
        "d = False\n",
        "\n",
        "model, s_testset = Modeling(N, l, testset, weights, bias, X.shape[1], 10, d)\n",
        "solver = pyo.SolverFactory('cbc', executable='/usr/bin/cbc', tee=True)\n",
        "\n",
        "start_time = time.time()\n",
        "result = solver.solve(model)\n",
        "solve_time = (time.time() - start_time)\n",
        "print(f\"Solve Time in Min: {solve_time/60}\")\n",
        "pyo.display(model.obj)"
      ]
    },
    {
      "cell_type": "code",
      "source": [
        "model.y.pprint()"
      ],
      "metadata": {
        "colab": {
          "base_uri": "https://localhost:8080/"
        },
        "id": "dQD9T0Z5-99-",
        "outputId": "cb750080-dcff-4f36-c8d8-df9bb3b37621"
      },
      "execution_count": null,
      "outputs": [
        {
          "output_type": "stream",
          "name": "stdout",
          "text": [
            "y : Size=25, Index=i\n",
            "    Key : Lower : Value          : Upper : Fixed : Stale : Domain\n",
            "      1 :  None :      0.9997866 :  None : False : False :  Reals\n",
            "      2 :  None :      1.0004806 :  None : False : False :  Reals\n",
            "      3 :  None :     0.99915703 :  None : False : False :  Reals\n",
            "      4 :  None :      1.0001131 :  None : False : False :  Reals\n",
            "      5 :  None :  -0.0005770967 :  None : False : False :  Reals\n",
            "      6 :  None :      1.0004234 :  None : False : False :  Reals\n",
            "      7 :  None :      1.0016292 :  None : False : False :  Reals\n",
            "      8 :  None :     0.99805376 :  None : False : False :  Reals\n",
            "      9 :  None :      1.0009689 :  None : False : False :  Reals\n",
            "     10 :  None :     0.99810297 :  None : False : False :  Reals\n",
            "     11 :  None :      1.0008599 :  None : False : False :  Reals\n",
            "     12 :  None :  -0.0018988177 :  None : False : False :  Reals\n",
            "     13 :  None :   0.0036441798 :  None : False : False :  Reals\n",
            "     14 :  None : -0.00059483558 :  None : False : False :  Reals\n",
            "     15 :  None :      1.0001515 :  None : False : False :  Reals\n",
            "     16 :  None :   0.0033130054 :  None : False : False :  Reals\n",
            "     17 :  None :   -0.001459738 :  None : False : False :  Reals\n",
            "     18 :  None :      1.0002726 :  None : False : False :  Reals\n",
            "     19 :  None :      1.0013202 :  None : False : False :  Reals\n",
            "     20 :  None :      1.0001004 :  None : False : False :  Reals\n",
            "     21 :  None :      1.0010141 :  None : False : False :  Reals\n",
            "     22 :  None :      0.9997374 :  None : False : False :  Reals\n",
            "     23 :  None :   0.0022195996 :  None : False : False :  Reals\n",
            "     24 :  None :      1.0005147 :  None : False : False :  Reals\n",
            "     25 :  None :     0.99949878 :  None : False : False :  Reals\n"
          ]
        }
      ]
    },
    {
      "cell_type": "code",
      "source": [
        "model.x.pprint()"
      ],
      "metadata": {
        "colab": {
          "base_uri": "https://localhost:8080/"
        },
        "id": "EZE6J9WL-9-I",
        "outputId": "71280b49-15fa-4f51-ea36-0db963423cb4"
      },
      "execution_count": null,
      "outputs": [
        {
          "output_type": "stream",
          "name": "stdout",
          "text": [
            "x : Size=25, Index=i\n",
            "    Key : Lower : Value      : Upper : Fixed : Stale : Domain\n",
            "      1 :  None :  0.9426016 :  None : False : False :  Reals\n",
            "      2 :  None :        0.0 :  None : False : False :  Reals\n",
            "      3 :  None :        0.0 :  None : False : False :  Reals\n",
            "      4 :  None :        0.0 :  None : False : False :  Reals\n",
            "      5 :  None :        0.0 :  None : False : False :  Reals\n",
            "      6 :  None :        0.0 :  None : False : False :  Reals\n",
            "      7 :  None :        0.0 :  None : False : False :  Reals\n",
            "      8 :  None : 0.64994705 :  None : False : False :  Reals\n",
            "      9 :  None :        0.0 :  None : False : False :  Reals\n",
            "     10 :  None : 0.82865406 :  None : False : False :  Reals\n",
            "     11 :  None :        0.0 :  None : False : False :  Reals\n",
            "     12 :  None :        0.0 :  None : False : False :  Reals\n",
            "     13 :  None :        0.0 :  None : False : False :  Reals\n",
            "     14 :  None :        0.0 :  None : False : False :  Reals\n",
            "     15 :  None :  1.0152167 :  None : False : False :  Reals\n",
            "     16 :  None :        0.0 :  None : False : False :  Reals\n",
            "     17 :  None :        0.0 :  None : False : False :  Reals\n",
            "     18 :  None :        0.0 :  None : False : False :  Reals\n",
            "     19 :  None :  1.5635805 :  None : False : False :  Reals\n",
            "     20 :  None :        0.0 :  None : False : False :  Reals\n",
            "     21 :  None :        0.0 :  None : False : False :  Reals\n",
            "     22 :  None :        0.0 :  None : False : False :  Reals\n",
            "     23 :  None :        0.0 :  None : False : False :  Reals\n",
            "     24 :  None :        0.0 :  None : False : False :  Reals\n",
            "     25 :  None :        0.0 :  None : False : False :  Reals\n"
          ]
        }
      ]
    },
    {
      "cell_type": "markdown",
      "source": [
        "##### Computing Average Performance"
      ],
      "metadata": {
        "id": "KNculxi8mChk"
      }
    },
    {
      "cell_type": "code",
      "source": [
        "N = 25\n",
        "l = 1\n",
        "d = False\n",
        "\n",
        "res_lbfgs = []\n",
        "i = 0\n",
        "while len(res_lbfgs) <= 30:\n",
        "  i += 1\n",
        "  model, s_testset = Modeling(N, l, testset, weights, bias, X.shape[1], 10, d)\n",
        "  solver = pyo.SolverFactory('cbc', executable='/usr/bin/cbc', tee=True)\n",
        "\n",
        "  start_time = time.time()\n",
        "  result = solver.solve(model)\n",
        "  solve_time = (time.time() - start_time)\n",
        "  print(f\"Solve Time in Min: {solve_time/60}\")\n",
        "  # check the status and termination condition of the result\n",
        "  if result.solver.status == pyo.SolverStatus.ok and result.solver.termination_condition == pyo.TerminationCondition.optimal:\n",
        "    # access the objective value\n",
        "    obj_val = pyo.value(model.obj)\n",
        "    print(f\"Objective value: {obj_val}\")\n",
        "    # save the objective value to the res list\n",
        "    res_lbfgs.append(obj_val)\n",
        "  else:\n",
        "    # the problem was not solved optimally\n",
        "    print(\"The problem was not solved optimally\")\n",
        "    print(f\"Termination condition: {result.solver.termination_condition}\")"
      ],
      "metadata": {
        "id": "gFIzU9zqPNA5",
        "colab": {
          "base_uri": "https://localhost:8080/"
        },
        "outputId": "a4e9da53-63a3-41d9-b269-c2cd58b51163"
      },
      "execution_count": null,
      "outputs": [
        {
          "output_type": "stream",
          "name": "stdout",
          "text": [
            "Solve Time in Min: 0.05658361117045085\n",
            "Objective value: 10.005280567399998\n",
            "Solve Time in Min: 0.21903436581293742\n",
            "Objective value: 11.26151397001\n",
            "Solve Time in Min: 1.4104634086290995\n",
            "Objective value: 14.009964679889999\n",
            "Solve Time in Min: 0.05394422213236491\n",
            "Objective value: 13.019884299910002\n",
            "Solve Time in Min: 0.07650994857152303\n",
            "Objective value: 16.03019397501\n",
            "Solve Time in Min: 0.03466349045435588\n",
            "Objective value: 17.00416778091\n",
            "Solve Time in Min: 0.1586639086405436\n",
            "Objective value: 15.01323016948\n",
            "Solve Time in Min: 0.22970503966013592\n",
            "Objective value: 16.00670005846\n",
            "Solve Time in Min: 0.0491742213567098\n",
            "Objective value: 18.005394090994\n",
            "Solve Time in Min: 0.12391060590744019\n",
            "Objective value: 13.022131783090002\n",
            "Solve Time in Min: 0.012346049149831137\n",
            "Objective value: 12.016733372703298\n",
            "Solve Time in Min: 0.16289546489715576\n",
            "Objective value: 16.00309384197\n",
            "Solve Time in Min: 0.04700699249903361\n",
            "Objective value: 13.018784059099998\n",
            "Solve Time in Min: 0.1081394910812378\n",
            "Objective value: 14.014721990600002\n",
            "Solve Time in Min: 0.022793416182200113\n",
            "Objective value: 20.0166213575\n",
            "Solve Time in Min: 0.1259747823079427\n",
            "Objective value: 15.02293971784\n",
            "Solve Time in Min: 0.3175058364868164\n",
            "Objective value: 14.013666059530001\n",
            "Solve Time in Min: 0.17000271876653036\n",
            "Objective value: 14.002258702765003\n",
            "Solve Time in Min: 0.04588546355565389\n",
            "Objective value: 16.021784083834\n",
            "Solve Time in Min: 0.12655771970748902\n",
            "Objective value: 16.012524747449994\n",
            "Solve Time in Min: 0.176634414990743\n",
            "Objective value: 14.998822255739999\n",
            "Solve Time in Min: 0.2395612080891927\n",
            "Objective value: 16.01062120289\n",
            "Solve Time in Min: 0.33743011951446533\n",
            "Objective value: 12.009884588509998\n",
            "Solve Time in Min: 0.08636744022369384\n",
            "Objective value: 15.022343078284003\n",
            "Solve Time in Min: 0.06097885767618815\n",
            "Objective value: 20.009438397574996\n",
            "Solve Time in Min: 0.2848249475161235\n",
            "Objective value: 14.02186228615\n",
            "Solve Time in Min: 1.116220243771871\n",
            "Objective value: 15.00497241274\n",
            "Solve Time in Min: 0.22640697558720907\n",
            "Objective value: 13.020576279218401\n",
            "Solve Time in Min: 0.20950186649958294\n",
            "Objective value: 14.020597568580003\n",
            "Solve Time in Min: 0.09467902183532714\n",
            "Objective value: 14.021642149959998\n",
            "Solve Time in Min: 0.05653124252955119\n",
            "Objective value: 17.011574982851\n"
          ]
        }
      ]
    },
    {
      "cell_type": "code",
      "source": [
        "print(f\"mean result = {np.mean(res_lbfgs)}, std result = {np.std(res_lbfgs)}\")"
      ],
      "metadata": {
        "colab": {
          "base_uri": "https://localhost:8080/"
        },
        "id": "FVTnD4IlbAkS",
        "outputId": "6a1b2a98-e204-4291-9cf7-d329f9ab504b"
      },
      "execution_count": null,
      "outputs": [
        {
          "output_type": "stream",
          "name": "stdout",
          "text": [
            "mean result = 14.795933048740153, std result = 2.2104669343393084\n"
          ]
        }
      ]
    },
    {
      "cell_type": "markdown",
      "source": [
        "# Heuristic"
      ],
      "metadata": {
        "id": "6NeKw2vVsVam"
      }
    },
    {
      "cell_type": "code",
      "source": [
        "s_test_backup = s_testset.copy()"
      ],
      "metadata": {
        "id": "Gb_4Txn1uHzG"
      },
      "execution_count": null,
      "outputs": []
    },
    {
      "cell_type": "markdown",
      "source": [
        "### Computing Difference"
      ],
      "metadata": {
        "id": "t85BBbPqyOL9"
      }
    },
    {
      "cell_type": "code",
      "source": [
        "s_testset['max_merit'] = 2.5\n",
        "s_testset['min_merit'] = 0\n",
        "s_testset['p_max'] = 0\n",
        "s_testset['p_min'] = 0\n",
        "\n",
        "row_i_max = s_testset.loc[:, ['SAT', 'GPA', 'max_merit']]\n",
        "row_i_max.columns = ['SAT', 'GPA', 'merit']\n",
        "s_testset.loc[:, 'p_max'] = mlp.predict(row_i_max)\n",
        "\n",
        "row_i_min = s_testset.loc[:, ['SAT', 'GPA', 'min_merit']]\n",
        "row_i_min.columns = ['SAT', 'GPA', 'merit']\n",
        "s_testset.loc[:, 'p_min'] = mlp.predict(row_i_min)\n",
        "s_testset['diff_p'] = s_testset.loc[:, 'p_max'] -  s_testset.loc[:, 'p_min']\n",
        "sorted_s_test = s_testset.sort_values(['diff_p'], ascending=False)"
      ],
      "metadata": {
        "id": "LE7K2RhXsVLs"
      },
      "execution_count": null,
      "outputs": []
    },
    {
      "cell_type": "markdown",
      "source": [
        "### Allocating Budget"
      ],
      "metadata": {
        "id": "j1NAIUN3yW0e"
      }
    },
    {
      "cell_type": "code",
      "source": [
        "budget = int(0.2*N)\n",
        "exp = 0\n",
        "for i in sorted_s_test.index:\n",
        "  if budget - 2.5 >= 0:\n",
        "    budget -= 2.5\n",
        "    exp += sorted_s_test.loc[i, 'p_max']"
      ],
      "metadata": {
        "id": "kDy3R7gcw04o"
      },
      "execution_count": null,
      "outputs": []
    },
    {
      "cell_type": "code",
      "source": [
        "print(f\"Heuristic Result = {exp}\")"
      ],
      "metadata": {
        "colab": {
          "base_uri": "https://localhost:8080/"
        },
        "id": "acRb-euTxKw3",
        "outputId": "8a092531-1034-4a04-cca0-fbcd98a1c204"
      },
      "execution_count": null,
      "outputs": [
        {
          "output_type": "stream",
          "name": "stdout",
          "text": [
            "Heuristic Result = 2.004179780238963\n"
          ]
        }
      ]
    },
    {
      "cell_type": "markdown",
      "source": [
        "# JANOS"
      ],
      "metadata": {
        "id": "PKY0AlK3XP7L"
      }
    },
    {
      "cell_type": "code",
      "source": [
        "! pip install janos gurobipy"
      ],
      "metadata": {
        "colab": {
          "base_uri": "https://localhost:8080/"
        },
        "id": "u_1vTkuDXPTz",
        "outputId": "54a8f3b0-2c17-4dde-c768-e71765c6811c"
      },
      "execution_count": null,
      "outputs": [
        {
          "output_type": "stream",
          "name": "stdout",
          "text": [
            "Collecting janos\n",
            "  Downloading janos-0.0.9-py3-none-any.whl (12 kB)\n",
            "Collecting gurobipy\n",
            "  Downloading gurobipy-11.0.0-cp310-cp310-manylinux2014_x86_64.manylinux_2_17_x86_64.whl (13.4 MB)\n",
            "\u001b[2K     \u001b[90m━━━━━━━━━━━━━━━━━━━━━━━━━━━━━━━━━━━━━━━━\u001b[0m \u001b[32m13.4/13.4 MB\u001b[0m \u001b[31m50.8 MB/s\u001b[0m eta \u001b[36m0:00:00\u001b[0m\n",
            "\u001b[?25hInstalling collected packages: gurobipy, janos\n",
            "Successfully installed gurobipy-11.0.0 janos-0.0.9\n"
          ]
        }
      ]
    },
    {
      "cell_type": "code",
      "source": [
        "from janos import *\n",
        "import pandas as pd\n",
        "import numpy as np\n",
        "import sys\n",
        "from sklearn.linear_model import LogisticRegression\n",
        "from sklearn.preprocessing import StandardScaler\n",
        "from datetime import datetime\n",
        "import time\n",
        "from sklearn.neural_network import MLPRegressor\n",
        "from sklearn.linear_model import LinearRegression\n",
        "from sklearn.metrics import mean_squared_error\n",
        "\n",
        "pd.options.mode.chained_assignment = None"
      ],
      "metadata": {
        "id": "5uSJ7YaEXUhP"
      },
      "execution_count": null,
      "outputs": []
    },
    {
      "cell_type": "code",
      "source": [
        "\n",
        "\"\"\"\n",
        "set the constant in the model\n",
        "\"\"\"\n",
        "scholarships = [0, 2.5]  # lower and upper bound if the scholarship\n",
        "n_simulations = 30  # to have meaningful mean and standard deviation;\n",
        "student_sizes = [25]  # we measure these predictions' RMSE\n",
        "LAYERS = 1\n",
        "nodes_per_layer = 10\n",
        "\"\"\"\n",
        "pretrained model\n",
        "\"\"\"\n",
        "# Assign X and y\n",
        "X = trainset[[\"SAT\", \"GPA\", \"merit\"]]\n",
        "y = trainset.loc[:, \"enroll\"]\n",
        "\n",
        "\"\"\"\n",
        "Prepare the output file\n",
        "\"\"\"\n",
        "now = datetime.now()\n",
        "date_time = now.strftime(\"%H-%M-%S-%Y%m%d\")\n",
        "filename = \"20200501_neural_network_\" + date_time + \".txt\"\n",
        "output = open(filename, \"w\")\n",
        "output.write(\"PM\\t\\tstudent_size\\t\\tn_layers\\t\\titeration\\t\\tjanos_time\\t\\tgurobi_time\\t\\tobj_val\\n\")\n",
        "output.close()\n",
        "\n",
        "for student_size in student_sizes:\n",
        "    n_applications = student_size\n",
        "    BUDGET = int(0.2 * n_applications)\n",
        "    hidden_layer_sizes = []\n",
        "    for n_layers in range(LAYERS):\n",
        "\n",
        "        hidden_layer_sizes.append(nodes_per_layer)\n",
        "\n",
        "    mlp = MLPRegressor(\n",
        "        hidden_layer_sizes=hidden_layer_sizes, random_state=0)  ### TODO: how to link training and optimization!\n",
        "    mlp.fit(X[[\"SAT\", \"GPA\", \"merit\"]], y)\n",
        "\n",
        "    res_janos = []\n",
        "    for iter in range(n_simulations):\n",
        "        random_sample = testset.sample(student_size)\n",
        "        random_sample = random_sample.reset_index()\n",
        "\n",
        "        m = JModel()\n",
        "\n",
        "        # Define regular variables\n",
        "        assign_scholarship = m.add_regular_variables([n_applications], \"assign_scholarship\")\n",
        "        for app_index in range(n_applications):\n",
        "            assign_scholarship[app_index].setContinuousDomain(lower_bound=scholarships[0],\n",
        "                                                              upper_bound=scholarships[1])\n",
        "            assign_scholarship[app_index].setObjectiveCoefficient(0)\n",
        "\n",
        "        # Define predicted variables\n",
        "        # First, we need to create structures of predictive models. In this case, we associate such a structure with an existing / pretrained logistic regression model.\n",
        "        logistic_regression_model = OptimizationPredictiveModel(m, pretrained_model=mlp,\n",
        "                                                                feature_names=[\"SAT\", \"GPA\", \"merit\"])\n",
        "\n",
        "        # Now, we could define the predicted decision variables and associate them with the predicted model structure.\n",
        "        enroll_probabilities = m.add_predicted_variables([n_applications], \"enroll_probs\")\n",
        "        for app_index in range(n_applications):\n",
        "            enroll_probabilities[app_index].setObjectiveCoefficient(1)\n",
        "            mapping_of_vars = {\"merit\": assign_scholarship[app_index],\n",
        "                                \"SAT\": random_sample[\"SAT\"][app_index],\n",
        "                                \"GPA\": random_sample[\"GPA\"][app_index]}\n",
        "            enroll_probabilities[app_index].setPM(logistic_regression_model, mapping_of_vars)\n",
        "\n",
        "        # Construct constraints\n",
        "        # \\sum_i x_i <= BUDGET\n",
        "        scholarship_deployed = Expression()\n",
        "\n",
        "        for app_index in range(n_applications):\n",
        "            scholarship_deployed.add_term(assign_scholarship[app_index], 1)\n",
        "\n",
        "        m.add_constraint(scholarship_deployed, \"less_equal\", BUDGET)\n",
        "        #            m.add_gurobi_param_settings(\"MIPGap\", 0.01)\n",
        "\n",
        "        # solve the model\n",
        "        #m.add_gurobi_param_settings('TimeLimit', 1800)\n",
        "        m.add_gurobi_param_settings('DUALREDUCTIONS', 0)\n",
        "        m.add_gurobi_param_settings('MIPGap', 0.001)\n",
        "        m.add_gurobi_param_settings('Threads', 1)\n",
        "        m.set_output_flag(0)\n",
        "        m.solve()\n",
        "\n",
        "        \"\"\"\n",
        "        write output\n",
        "        borrowed from https://www.gurobi.com/documentation/8.1/examples/workforce1_py.html\n",
        "        \"\"\"\n",
        "        status = m.gurobi_model.status\n",
        "\n",
        "        if status == GRB.Status.UNBOUNDED:\n",
        "            print('The model cannot be solved because it is unbounded')\n",
        "            sys.exit(0)\n",
        "        elif status == GRB.Status.OPTIMAL:\n",
        "            output = open(filename, \"a\")\n",
        "            output.write(\"NN\\t\\t\" + str(student_size) + \"\\t\\t\" + str(LAYERS) + \"\\t\\t\" + str(iter) +\n",
        "                          \"\\t\\t\" + str(m.get_time()) + \"\\t\\t\" + str(m.gurobi_model.runtime) +\n",
        "                          \"\\t\\t\" + str(m.gurobi_model.objval) + \"\\n\")\n",
        "            output.close()\n",
        "            res_janos.append(m.gurobi_model.objval)\n",
        "\n",
        "        elif status != GRB.Status.INF_OR_UNBD and status != GRB.Status.INFEASIBLE:\n",
        "            print('Optimization was stopped with status %d' % status)\n",
        "        else:\n",
        "            # if none of the above, then do IIS\n",
        "            print('The model is infeasible; computing IIS')\n",
        "            m.gurobi_model.computeIIS()\n",
        "            m.gurobi_model.write(\"ip_model_inf.ilp\")\n",
        "            if m.gurobi_model.IISMinimal:\n",
        "                print('IIS is minimal\\n')\n",
        "            else:\n",
        "                print('IIS is not minimal\\n')\n",
        "            print('\\nThe following constraint(s) cannot be satisfied:')\n",
        "            for c in m.gurobi_model.getConstrs():\n",
        "                if c.IISConstr:\n",
        "                    print('%s' % c.constrName)\n"
      ],
      "metadata": {
        "colab": {
          "base_uri": "https://localhost:8080/"
        },
        "id": "Er2u5O0AYjaP",
        "outputId": "ad3a6e45-4694-48c2-9327-c2a2cfccf433"
      },
      "execution_count": null,
      "outputs": [
        {
          "output_type": "stream",
          "name": "stdout",
          "text": [
            "Restricted license - for non-production use only - expires 2025-11-24\n",
            "Set parameter TimeLimit to value 3600\n",
            "Set parameter TimeLimit to value 3600\n",
            "Set parameter TimeLimit to value 3600\n",
            "Set parameter TimeLimit to value 3600\n",
            "Set parameter TimeLimit to value 3600\n",
            "Set parameter TimeLimit to value 3600\n",
            "Set parameter TimeLimit to value 3600\n",
            "Set parameter TimeLimit to value 3600\n",
            "Set parameter TimeLimit to value 3600\n",
            "Set parameter TimeLimit to value 3600\n",
            "Set parameter TimeLimit to value 3600\n",
            "Set parameter TimeLimit to value 3600\n",
            "Set parameter TimeLimit to value 3600\n",
            "Set parameter TimeLimit to value 3600\n",
            "Set parameter TimeLimit to value 3600\n",
            "Set parameter TimeLimit to value 3600\n",
            "Set parameter TimeLimit to value 3600\n",
            "Set parameter TimeLimit to value 3600\n",
            "Set parameter TimeLimit to value 3600\n",
            "Set parameter TimeLimit to value 3600\n",
            "Set parameter TimeLimit to value 3600\n",
            "Set parameter TimeLimit to value 3600\n",
            "Set parameter TimeLimit to value 3600\n",
            "Set parameter TimeLimit to value 3600\n",
            "Set parameter TimeLimit to value 3600\n",
            "Set parameter TimeLimit to value 3600\n",
            "Set parameter TimeLimit to value 3600\n",
            "Set parameter TimeLimit to value 3600\n",
            "Set parameter TimeLimit to value 3600\n",
            "Set parameter TimeLimit to value 3600\n"
          ]
        }
      ]
    },
    {
      "cell_type": "code",
      "source": [
        "print(f\"mean result = {np.mean(res_janos)}, std result = {np.std(res_janos)}\")"
      ],
      "metadata": {
        "colab": {
          "base_uri": "https://localhost:8080/"
        },
        "id": "ZiUB4aO3RHfh",
        "outputId": "7222c625-f6c9-4e64-d0d8-e7ecf5dcf8c3"
      },
      "execution_count": null,
      "outputs": [
        {
          "output_type": "stream",
          "name": "stdout",
          "text": [
            "mean result = 14.109749737732816, std result = 2.253116405874849\n"
          ]
        }
      ]
    },
    {
      "cell_type": "code",
      "source": [
        "m.get_best_solution()"
      ],
      "metadata": {
        "colab": {
          "base_uri": "https://localhost:8080/"
        },
        "id": "KD8Mnq202PTi",
        "outputId": "9c2b789b-dea0-4765-c262-5f349471a2a7"
      },
      "execution_count": null,
      "outputs": [
        {
          "output_type": "execute_result",
          "data": {
            "text/plain": [
              "{'regular': [0.0,\n",
              "  0.0,\n",
              "  0.0,\n",
              "  1.3,\n",
              "  0.0,\n",
              "  0.0,\n",
              "  0.0,\n",
              "  1.3,\n",
              "  0.0,\n",
              "  0.0,\n",
              "  0.0,\n",
              "  0.0,\n",
              "  0.0,\n",
              "  0.49,\n",
              "  0.0,\n",
              "  1.24,\n",
              "  0.0,\n",
              "  0.0,\n",
              "  0.0,\n",
              "  0.0,\n",
              "  0.0,\n",
              "  0.0,\n",
              "  0.67,\n",
              "  0.0,\n",
              "  0.0],\n",
              " 'predicted': [0.01,\n",
              "  1.0,\n",
              "  0.01,\n",
              "  1.0,\n",
              "  1.0,\n",
              "  0.0,\n",
              "  0.01,\n",
              "  1.0,\n",
              "  0.01,\n",
              "  1.0,\n",
              "  0.0,\n",
              "  -0.0,\n",
              "  0.0,\n",
              "  0.93,\n",
              "  1.0,\n",
              "  0.99,\n",
              "  1.0,\n",
              "  0.99,\n",
              "  0.01,\n",
              "  1.0,\n",
              "  0.0,\n",
              "  0.01,\n",
              "  0.95,\n",
              "  1.0,\n",
              "  0.01]}"
            ]
          },
          "metadata": {},
          "execution_count": 47
        }
      ]
    },
    {
      "cell_type": "markdown",
      "source": [
        "# Statistical Tests"
      ],
      "metadata": {
        "id": "SJQ2_yeqf0tk"
      }
    },
    {
      "cell_type": "markdown",
      "source": [
        "## Implemented Model and JANOS are the same"
      ],
      "metadata": {
        "id": "iRs9W7mUXkAF"
      }
    },
    {
      "cell_type": "code",
      "source": [
        "from scipy.stats import ttest_ind\n",
        "ttest_ind(res_adam, res_janos,equal_var=False, alternative='two-sided')"
      ],
      "metadata": {
        "colab": {
          "base_uri": "https://localhost:8080/"
        },
        "id": "H9zsbLjSf2kT",
        "outputId": "bd4d4787-528d-41b5-cdc6-ee0f429686c2"
      },
      "execution_count": null,
      "outputs": [
        {
          "output_type": "execute_result",
          "data": {
            "text/plain": [
              "TtestResult(statistic=1.2099739144228867, pvalue=0.231134799594279, df=58.75175552071136)"
            ]
          },
          "metadata": {},
          "execution_count": 78
        }
      ]
    },
    {
      "cell_type": "markdown",
      "source": [
        "## Effect of Different MLP Solver"
      ],
      "metadata": {
        "id": "Szs8H4IMXyor"
      }
    },
    {
      "cell_type": "code",
      "source": [
        "from scipy import stats\n",
        "stats.kruskal(res_adam, res_adam_nt, res_sgd, res_lbfgs)"
      ],
      "metadata": {
        "colab": {
          "base_uri": "https://localhost:8080/"
        },
        "id": "xjCLlRLMX4D9",
        "outputId": "61a3f692-642a-4936-f99d-32616491a622"
      },
      "execution_count": null,
      "outputs": [
        {
          "output_type": "execute_result",
          "data": {
            "text/plain": [
              "KruskalResult(statistic=21.09255359001037, pvalue=0.0001007180695094934)"
            ]
          },
          "metadata": {},
          "execution_count": 71
        }
      ]
    },
    {
      "cell_type": "markdown",
      "source": [
        "Excluding SGD that has lower test accuracy"
      ],
      "metadata": {
        "id": "0Adg9SADDBQ2"
      }
    },
    {
      "cell_type": "code",
      "source": [
        "stats.kruskal(res_adam, res_adam_nt, res_lbfgs)"
      ],
      "metadata": {
        "colab": {
          "base_uri": "https://localhost:8080/"
        },
        "id": "iFTJJyIrtiay",
        "outputId": "4b034ae1-edeb-49a1-c09a-e2823aead889"
      },
      "execution_count": null,
      "outputs": [
        {
          "output_type": "execute_result",
          "data": {
            "text/plain": [
              "KruskalResult(statistic=0.6913897314411201, pvalue=0.7077284063599573)"
            ]
          },
          "metadata": {},
          "execution_count": 72
        }
      ]
    },
    {
      "cell_type": "markdown",
      "source": [
        "## Tuning and Not Tuning Model"
      ],
      "metadata": {
        "id": "ivimVTvMY6NC"
      }
    },
    {
      "cell_type": "code",
      "source": [
        "ttest_ind(res_adam, res_adam_nt,equal_var=False, alternative='two-sided')"
      ],
      "metadata": {
        "colab": {
          "base_uri": "https://localhost:8080/"
        },
        "id": "pqiJsV5jucdc",
        "outputId": "ba40021c-a0cb-47fd-cf37-e65bcacc5828"
      },
      "execution_count": null,
      "outputs": [
        {
          "output_type": "execute_result",
          "data": {
            "text/plain": [
              "TtestResult(statistic=0.8800356329650662, pvalue=0.38237971608393984, df=59.51658223252582)"
            ]
          },
          "metadata": {},
          "execution_count": 79
        }
      ]
    },
    {
      "cell_type": "markdown",
      "source": [
        "# Test on N=100"
      ],
      "metadata": {
        "id": "VTa6OsFCBIrC"
      }
    },
    {
      "cell_type": "code",
      "source": [
        "from sklearn.preprocessing import StandardScaler\n",
        "from sklearn.neural_network import MLPRegressor\n",
        "from sklearn.model_selection import train_test_split\n",
        "\n",
        "#Setting Nurons number per hidden layers\n",
        "n_neurons = 10\n",
        "l = 1\n",
        "n_size = l * [n_neurons]\n",
        "\n",
        "# Create an MLPRegressor object\n",
        "mlp = MLPRegressor(hidden_layer_sizes=n_size, activation='relu', max_iter=500, solver='adam', random_state=3, **dict_l_alpha[l])\n",
        "\n",
        "# Separate the input features (X) and the target variable (y)\n",
        "X = trainset.loc[:, ['SAT', 'GPA', 'merit']]\n",
        "y = trainset.loc[:, 'enroll']\n",
        "\n",
        "# Split the data into training and testing sets\n",
        "X_train, X_test, y_train, y_test = train_test_split(X, y, test_size=0.4, random_state=42)\n",
        "\n",
        "# Fit the MLP to the data to compute the initial weights\n",
        "mlp.fit(X_train, y_train)\n",
        "\n",
        "#Getting weights and bias\n",
        "weights = mlp.coefs_\n",
        "bias = mlp.intercepts_"
      ],
      "metadata": {
        "id": "D11wxFkgBRnf"
      },
      "execution_count": null,
      "outputs": []
    },
    {
      "cell_type": "code",
      "source": [
        "mlp.score(X_test, y_test)"
      ],
      "metadata": {
        "colab": {
          "base_uri": "https://localhost:8080/"
        },
        "outputId": "48ec82dc-700d-4022-9d9b-9029a3a9976d",
        "id": "H91q2la1BRng"
      },
      "execution_count": null,
      "outputs": [
        {
          "output_type": "execute_result",
          "data": {
            "text/plain": [
              "0.9612498114793685"
            ]
          },
          "metadata": {},
          "execution_count": 14
        }
      ]
    },
    {
      "cell_type": "code",
      "source": [
        "%%time\n",
        "import pandas as pd\n",
        "import time\n",
        "from sklearn.utils import resample\n",
        "from sklearn.neural_network import MLPRegressor\n",
        "\n",
        "N = 100\n",
        "l = 1\n",
        "d = False\n",
        "\n",
        "model, s_testset = Modeling(N, l, testset, weights, bias, X.shape[1], 10, d)\n",
        "solver = pyo.SolverFactory('cbc', executable='/usr/bin/cbc', tee=True)\n",
        "\n",
        "start_time = time.time()\n",
        "result = solver.solve(model)\n",
        "solve_time = (time.time() - start_time)\n",
        "print(f\"Solve Time in Min: {solve_time/60}\")\n",
        "pyo.display(model.obj)"
      ],
      "metadata": {
        "id": "B76FgktFBRng",
        "colab": {
          "base_uri": "https://localhost:8080/"
        },
        "outputId": "c55b4867-d6e3-4c03-be34-dc843f405121"
      },
      "execution_count": null,
      "outputs": [
        {
          "output_type": "stream",
          "name": "stdout",
          "text": [
            "Solve Time in Min: 15.146363667647044\n",
            "obj : Size=1, Index=None, Active=True\n",
            "    Key  : Active : Value\n",
            "    None :   True : 59.03778642918\n",
            "CPU times: user 5.46 s, sys: 630 ms, total: 6.08 s\n",
            "Wall time: 15min 9s\n"
          ]
        }
      ]
    }
  ],
  "metadata": {
    "colab": {
      "collapsed_sections": [
        "h3C4hafqpvoC",
        "YplXKBjna-gw"
      ],
      "provenance": [],
      "toc_visible": true,
      "authorship_tag": "ABX9TyNzzJSBv9/MD0i7g/KhrKzh",
      "include_colab_link": true
    },
    "kernelspec": {
      "display_name": "Python 3",
      "name": "python3"
    },
    "language_info": {
      "name": "python"
    }
  },
  "nbformat": 4,
  "nbformat_minor": 0
}